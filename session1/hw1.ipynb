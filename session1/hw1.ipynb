{
 "cells": [
  {
   "cell_type": "markdown",
   "metadata": {},
   "source": [
    "# Homework"
   ]
  },
  {
   "cell_type": "markdown",
   "metadata": {},
   "source": [
    "## Set up your Python environtment\n",
    "Follow instructions in [README](https://github.com/jvictorchen/python-workshop) to install VirtualBox, Conda, Jupyter, and create a Github repository.\n",
    "Your homework will need to be submitted to this repository in order to be graded."
   ]
  },
  {
   "cell_type": "markdown",
   "metadata": {},
   "source": [
    "## Write a Jupyter Magic\n",
    "\n",
    "Write a Jupyter Magic that count the number of words in the cell. Try to make it both a line and cell magic. Demonstrate its usage with examples.\n",
    "\n",
    "You can refer to this documentation in creating a magic: https://ipython.readthedocs.io/en/stable/config/custommagics.html\n",
    "\n",
    "Line magic:\n",
    "```python\n",
    "%countwords this is a line magic\n",
    "\n",
    "# output: 5\n",
    "```\n",
    "\n",
    "\n",
    "Cell magic:\n",
    "```python\n",
    "%%countwords\n",
    "\n",
    "this is a magic\n",
    "cell\n",
    "\n",
    "\n",
    "# output: 5\n",
    "```\n",
    "\n"
   ]
  },
  {
   "cell_type": "markdown",
   "metadata": {},
   "source": [
    "## Profile the speed of list comprehension vs. for loops\n",
    "Design some experiments to compare the speed of list comprehension and using a for loop. Practice using `%time`/`%%time` magics."
   ]
  },
  {
   "cell_type": "markdown",
   "metadata": {},
   "source": [
    "## Prime numbers\n",
    "\n",
    "Write a function to return all prime numbers in a list. Can you do this with one line of list comprehension?"
   ]
  },
  {
   "cell_type": "markdown",
   "metadata": {},
   "source": [
    "## Extend the Vector class\n",
    "* Extend the `Vector` class example to support any dimension. \n",
    "* Think of operations/methods that would be useful when using the `Vector` class. Do some research on dunder methods to see how you can implement them in a Pythonic way. \n",
    "* Do not worry about performance. \n",
    "* Some examples of usages are.\n",
    "\n",
    "```python\n",
    "# construction\n",
    ">> v = Vector(1, 2, 3, 4, 5)\n",
    "\n",
    "# get item\n",
    ">> v[2]\n",
    "3\n",
    "\n",
    "# slicing\n",
    ">> v[2:3]\n",
    "Vector(2)\n",
    "\n",
    "# length\n",
    ">> len(v)\n",
    "5\n",
    "\n",
    "# power\n",
    ">> v ** 2\n",
    "Vector(1, 4, 9, 16, 25)\n",
    "```"
   ]
  },
  {
   "cell_type": "markdown",
   "metadata": {},
   "source": [
    "## Case-insensitive dictionary\n",
    "* Write a `CaseInsensitiveDict` class that is insensitive to the case of keys.\n",
    "* It's a good idea to inherit from collections.UserDict.\n",
    "* Use examples to demonstrate how it should be used.\n",
    "\n",
    "\n",
    "```python\n",
    "d = CaseInsensitiveDict()\n",
    "d['A'] = 3\n",
    "\n",
    ">> print(d['a'])\n",
    "3\n",
    "\n",
    ">> d['A'] = 4\n",
    ">> print(d['a'])\n",
    "4\n",
    "```\n",
    "\n",
    "* Bonus point: what if you need to store the original keys?\n",
    "\n",
    "```python\n",
    ">> print(d)\n",
    "{'A': 3}\n",
    "```"
   ]
  },
  {
   "cell_type": "code",
   "execution_count": null,
   "metadata": {},
   "outputs": [],
   "source": []
  }
 ],
 "metadata": {
  "kernelspec": {
   "display_name": "Python 3",
   "language": "python",
   "name": "python3"
  },
  "language_info": {
   "codemirror_mode": {
    "name": "ipython",
    "version": 3
   },
   "file_extension": ".py",
   "mimetype": "text/x-python",
   "name": "python",
   "nbconvert_exporter": "python",
   "pygments_lexer": "ipython3",
   "version": "3.7.7"
  },
  "toc": {
   "base_numbering": 1,
   "nav_menu": {},
   "number_sections": true,
   "sideBar": true,
   "skip_h1_title": false,
   "title_cell": "Table of Contents",
   "title_sidebar": "Contents",
   "toc_cell": false,
   "toc_position": {},
   "toc_section_display": true,
   "toc_window_display": false
  },
  "varInspector": {
   "cols": {
    "lenName": 16,
    "lenType": 16,
    "lenVar": 40
   },
   "kernels_config": {
    "python": {
     "delete_cmd_postfix": "",
     "delete_cmd_prefix": "del ",
     "library": "var_list.py",
     "varRefreshCmd": "print(var_dic_list())"
    },
    "r": {
     "delete_cmd_postfix": ") ",
     "delete_cmd_prefix": "rm(",
     "library": "var_list.r",
     "varRefreshCmd": "cat(var_dic_list()) "
    }
   },
   "types_to_exclude": [
    "module",
    "function",
    "builtin_function_or_method",
    "instance",
    "_Feature"
   ],
   "window_display": false
  }
 },
 "nbformat": 4,
 "nbformat_minor": 4
}
