{
 "cells": [
  {
   "cell_type": "code",
   "execution_count": 1,
   "metadata": {},
   "outputs": [
    {
     "data": {
      "text/html": [
       "<style>.container { width:100% !important; }</style>"
      ],
      "text/plain": [
       "<IPython.core.display.HTML object>"
      ]
     },
     "metadata": {},
     "output_type": "display_data"
    }
   ],
   "source": [
    "from IPython.core.display import display, HTML\n",
    "display(HTML(\"<style>.container { width:100% !important; }</style>\"))"
   ]
  },
  {
   "cell_type": "markdown",
   "metadata": {},
   "source": [
    "# Recommend Materials\n",
    "\n",
    "* *Python official documentation*\n",
    "* *The Python 3 Standard Library by Example*\n",
    "\n",
    "# Zen of today\n",
    "\n",
    "* Don't reinvent wheels.\n",
    "* Learning by doing/ making mistake\n",
    "* The question is not how, but why\n",
    "* Code reviweing\n",
    "\n",
    "# Topics\n",
    "\n",
    "* What is standard library?\n",
    "* Data structure related standard library: enum, collections\n",
    "* Functional programmning related library: itertools, functools, \n",
    "* File System related library: glob, os.path. (not covered today)\n",
    "* Serialization: pickle, csv\n",
    "* OS related Library: Pool, subprocess, threading"
   ]
  },
  {
   "cell_type": "markdown",
   "metadata": {},
   "source": [
    "# What is Standard Library"
   ]
  },
  {
   "cell_type": "markdown",
   "metadata": {},
   "source": [
    "From WikiPeida:"
   ]
  },
  {
   "cell_type": "markdown",
   "metadata": {},
   "source": [
    "A standard library in computer programming is the library made available across implementations of a programming language. These libraries are conventionally described in programming language specifications; however, contents of a language's associated library may also be determined (in part or whole) by more informal practices of a language's community."
   ]
  },
  {
   "cell_type": "markdown",
   "metadata": {},
   "source": [
    "For a module to be included in a language, it must solve some classical computer science problem: i.e: sorting. Or it solve some common design/engineering problmes in computer science."
   ]
  },
  {
   "cell_type": "markdown",
   "metadata": {},
   "source": [
    "Numpy and pandas are not standard libriries, because if we exclude the branch of machine learning, then they are not related to any computer science problems."
   ]
  },
  {
   "cell_type": "markdown",
   "metadata": {},
   "source": [
    "To fully utilize the power of standard libary, we need have a good understanidng of computer science. However, this is not a must for quant. So the best practice is learning by doing, try to solve some real world problems and then come back. "
   ]
  },
  {
   "cell_type": "markdown",
   "metadata": {},
   "source": [
    "# Data Structure Related"
   ]
  },
  {
   "cell_type": "markdown",
   "metadata": {},
   "source": [
    "## Enum"
   ]
  },
  {
   "cell_type": "markdown",
   "metadata": {},
   "source": [
    "module provides an implementation of an enumeration type, with iteration and comparison capabilities. It can be used to create well-defined symbols for values, instead of using literal strings or integers."
   ]
  },
  {
   "cell_type": "markdown",
   "metadata": {},
   "source": [
    "The good part is we don't need use of integers or stings as return values."
   ]
  },
  {
   "cell_type": "markdown",
   "metadata": {},
   "source": [
    "### Simple creation/ Iteration/ Comparasion"
   ]
  },
  {
   "cell_type": "code",
   "execution_count": 6,
   "metadata": {},
   "outputs": [],
   "source": [
    "import enum\n",
    "\n",
    "\n",
    "## creation\n",
    "class BugStatus(enum.Enum):\n",
    "    \n",
    "    new  = 7\n",
    "    incomplete = 6\n",
    "    invalid = 5\n",
    "    wont_fix = 4\n",
    "    in_progress = 3\n",
    "    fix_commited = 2\n",
    "    fix_released = 1"
   ]
  },
  {
   "cell_type": "code",
   "execution_count": 3,
   "metadata": {},
   "outputs": [
    {
     "name": "stdout",
     "output_type": "stream",
     "text": [
      "\n",
      "Member name: wont_fix\n",
      "Member value: 4\n"
     ]
    }
   ],
   "source": [
    "print('\\nMember name: {}'.format(BugStatus.wont_fix.name))\n",
    "print('Member value: {}'.format(BugStatus.wont_fix.value))"
   ]
  },
  {
   "cell_type": "code",
   "execution_count": 7,
   "metadata": {},
   "outputs": [
    {
     "name": "stdout",
     "output_type": "stream",
     "text": [
      "new             = 7\n",
      "incomplete      = 6\n",
      "invalid         = 5\n",
      "wont_fix        = 4\n",
      "in_progress     = 3\n",
      "fix_commited    = 2\n",
      "fix_released    = 1\n"
     ]
    }
   ],
   "source": [
    "## iteration\n",
    "for status in BugStatus:\n",
    "    print(\"{:15} = {}\".format(status.name, status.value))"
   ]
  },
  {
   "cell_type": "code",
   "execution_count": 11,
   "metadata": {},
   "outputs": [],
   "source": [
    "## comparasion\n",
    "\n",
    "actual_state = BugStatus.wont_fix\n",
    "desired_state = BugStatus.fix_released"
   ]
  },
  {
   "cell_type": "code",
   "execution_count": 13,
   "metadata": {},
   "outputs": [
    {
     "name": "stdout",
     "output_type": "stream",
     "text": [
      "Equality: False True\n"
     ]
    }
   ],
   "source": [
    "## equity test\n",
    "print(\"Equality:\", actual_state == desired_state, actual_state == BugStatus.wont_fix)"
   ]
  },
  {
   "cell_type": "code",
   "execution_count": 14,
   "metadata": {},
   "outputs": [
    {
     "name": "stdout",
     "output_type": "stream",
     "text": [
      "Identity: False True\n"
     ]
    }
   ],
   "source": [
    "## identity \n",
    "print(\"Identity:\", actual_state is desired_state, actual_state is BugStatus.wont_fix)"
   ]
  },
  {
   "cell_type": "code",
   "execution_count": 17,
   "metadata": {},
   "outputs": [
    {
     "name": "stdout",
     "output_type": "stream",
     "text": [
      " Cannot sort:'<' not supported between instances of 'BugStatus' and 'BugStatus'\n"
     ]
    }
   ],
   "source": [
    "## can we compare?\n",
    "try:\n",
    "    print(\"\\n\".join(\" \" + s.name for s in sorted(BugStatus)))\n",
    "except TypeError as err:\n",
    "    print(\" Cannot sort:{}\".format(err))"
   ]
  },
  {
   "cell_type": "code",
   "execution_count": 18,
   "metadata": {},
   "outputs": [],
   "source": [
    "class ReturnState(enum.Enum):\n",
    "    \n",
    "    success = 0\n",
    "    fail = 1\n",
    "    "
   ]
  },
  {
   "cell_type": "code",
   "execution_count": 20,
   "metadata": {},
   "outputs": [],
   "source": [
    "## a simple exmaple using this design flow\n",
    "def modify_first_elemnts(obj, elm):\n",
    "    try:\n",
    "        obj[0] = elm\n",
    "        return ReturnState.success\n",
    "    except:\n",
    "        return ReturnState.fail"
   ]
  },
  {
   "cell_type": "code",
   "execution_count": 21,
   "metadata": {},
   "outputs": [],
   "source": [
    "obj1 = [3]\n",
    "obj2 = (3)"
   ]
  },
  {
   "cell_type": "code",
   "execution_count": 22,
   "metadata": {},
   "outputs": [],
   "source": [
    "res = modify_first_elemnts(obj1, 2)"
   ]
  },
  {
   "cell_type": "code",
   "execution_count": 27,
   "metadata": {},
   "outputs": [],
   "source": [
    "## c exmpale\n",
    "## e_state modify_first_elemnents(void * obj, void* element)"
   ]
  },
  {
   "cell_type": "code",
   "execution_count": 23,
   "metadata": {},
   "outputs": [
    {
     "data": {
      "text/plain": [
       "<ReturnState.success: 0>"
      ]
     },
     "execution_count": 23,
     "metadata": {},
     "output_type": "execute_result"
    }
   ],
   "source": [
    "res"
   ]
  },
  {
   "cell_type": "code",
   "execution_count": 24,
   "metadata": {},
   "outputs": [],
   "source": [
    "res = modify_first_elemnts(obj2, 2)"
   ]
  },
  {
   "cell_type": "code",
   "execution_count": 25,
   "metadata": {},
   "outputs": [
    {
     "data": {
      "text/plain": [
       "<ReturnState.fail: 1>"
      ]
     },
     "execution_count": 25,
     "metadata": {},
     "output_type": "execute_result"
    }
   ],
   "source": [
    "res"
   ]
  },
  {
   "cell_type": "markdown",
   "metadata": {},
   "source": [
    "No need use of interger or strings. It is OK if you use string and you have few states, but what if you have many states."
   ]
  },
  {
   "cell_type": "markdown",
   "metadata": {},
   "source": [
    "An example in C:\n",
    "\n",
    "https://www.man7.org/linux/man-pages/man3/shm_open.3.html"
   ]
  },
  {
   "cell_type": "code",
   "execution_count": 26,
   "metadata": {},
   "outputs": [
    {
     "name": "stdout",
     "output_type": "stream",
     "text": [
      "Ordered by value:\n",
      " fix_released\n",
      " fix_committed\n",
      " in_progress\n",
      " wont_fix\n",
      " invalid\n",
      " incomplete\n",
      " new\n"
     ]
    }
   ],
   "source": [
    "## states can be compared\n",
    "class BugStatus(enum.IntEnum):\n",
    "    new = 7\n",
    "    incomplete = 6\n",
    "    invalid = 5\n",
    "    wont_fix = 4\n",
    "    in_progress = 3\n",
    "    fix_committed = 2\n",
    "    fix_released = 1\n",
    "    \n",
    "print('Ordered by value:')\n",
    "print('\\n'.join(' ' + s.name for s in sorted(BugStatus)))"
   ]
  },
  {
   "cell_type": "code",
   "execution_count": 28,
   "metadata": {},
   "outputs": [
    {
     "name": "stdout",
     "output_type": "stream",
     "text": [
      "new             = 7\n",
      "incomplete      = 6\n",
      "invalid         = 5\n",
      "wont_fix        = 4\n",
      "in_progress     = 3\n",
      "fix_committed   = 2\n",
      "fix_released    = 1\n",
      "\n",
      "Same: by_design is wont_fix:  True\n",
      "Same: closed is fix_released:  True\n"
     ]
    }
   ],
   "source": [
    "## non-unique enumeration\n",
    "import enum\n",
    "class BugStatus(enum.Enum):\n",
    "    new = 7\n",
    "    incomplete = 6\n",
    "    invalid = 5\n",
    "    wont_fix = 4\n",
    "    in_progress = 3\n",
    "    fix_committed = 2\n",
    "    fix_released = 1\n",
    "    \n",
    "    \n",
    "    by_design = 4\n",
    "    closed = 1\n",
    "\n",
    "for status in BugStatus:\n",
    "    print('{:15} = {}'.format(status.name, status.value))\n",
    "    \n",
    "## by_deisng and closed are ignored, \n",
    "print('\\nSame: by_design is wont_fix: ',\n",
    "BugStatus.by_design is BugStatus.wont_fix)\n",
    "print('Same: closed is fix_released: ',\n",
    "BugStatus.closed is BugStatus.fix_released)"
   ]
  },
  {
   "cell_type": "code",
   "execution_count": 29,
   "metadata": {},
   "outputs": [
    {
     "ename": "ValueError",
     "evalue": "duplicate values found in <enum 'BugStatus'>: by_design -> wont_fix, closed -> fix_released",
     "output_type": "error",
     "traceback": [
      "\u001b[0;31m---------------------------------------------------------------------------\u001b[0m",
      "\u001b[0;31mValueError\u001b[0m                                Traceback (most recent call last)",
      "\u001b[0;32m<ipython-input-29-e3489c9ac009>\u001b[0m in \u001b[0;36m<module>\u001b[0;34m\u001b[0m\n\u001b[1;32m      1\u001b[0m \u001b[0;31m## enforced uniqueness\u001b[0m\u001b[0;34m\u001b[0m\u001b[0;34m\u001b[0m\u001b[0;34m\u001b[0m\u001b[0m\n\u001b[1;32m      2\u001b[0m \u001b[0;34m@\u001b[0m\u001b[0menum\u001b[0m\u001b[0;34m.\u001b[0m\u001b[0munique\u001b[0m\u001b[0;34m\u001b[0m\u001b[0;34m\u001b[0m\u001b[0m\n\u001b[0;32m----> 3\u001b[0;31m \u001b[0;32mclass\u001b[0m \u001b[0mBugStatus\u001b[0m\u001b[0;34m(\u001b[0m\u001b[0menum\u001b[0m\u001b[0;34m.\u001b[0m\u001b[0mEnum\u001b[0m\u001b[0;34m)\u001b[0m\u001b[0;34m:\u001b[0m\u001b[0;34m\u001b[0m\u001b[0;34m\u001b[0m\u001b[0m\n\u001b[0m\u001b[1;32m      4\u001b[0m     \u001b[0mnew\u001b[0m \u001b[0;34m=\u001b[0m \u001b[0;36m7\u001b[0m\u001b[0;34m\u001b[0m\u001b[0;34m\u001b[0m\u001b[0m\n\u001b[1;32m      5\u001b[0m     \u001b[0mincomplete\u001b[0m \u001b[0;34m=\u001b[0m \u001b[0;36m6\u001b[0m\u001b[0;34m\u001b[0m\u001b[0;34m\u001b[0m\u001b[0m\n",
      "\u001b[0;32m~/anaconda3/lib/python3.7/enum.py\u001b[0m in \u001b[0;36munique\u001b[0;34m(enumeration)\u001b[0m\n\u001b[1;32m    867\u001b[0m                 [\"%s -> %s\" % (alias, name) for (alias, name) in duplicates])\n\u001b[1;32m    868\u001b[0m         raise ValueError('duplicate values found in %r: %s' %\n\u001b[0;32m--> 869\u001b[0;31m                 (enumeration, alias_details))\n\u001b[0m\u001b[1;32m    870\u001b[0m     \u001b[0;32mreturn\u001b[0m \u001b[0menumeration\u001b[0m\u001b[0;34m\u001b[0m\u001b[0;34m\u001b[0m\u001b[0m\n\u001b[1;32m    871\u001b[0m \u001b[0;34m\u001b[0m\u001b[0m\n",
      "\u001b[0;31mValueError\u001b[0m: duplicate values found in <enum 'BugStatus'>: by_design -> wont_fix, closed -> fix_released"
     ]
    }
   ],
   "source": [
    "## enforced uniqueness\n",
    "@enum.unique\n",
    "class BugStatus(enum.Enum):\n",
    "    new = 7\n",
    "    incomplete = 6\n",
    "    invalid = 5\n",
    "    wont_fix = 4\n",
    "    in_progress = 3\n",
    "    fix_committed = 2\n",
    "    fix_released = 1\n",
    "    # This will trigger an error with unique applied.\n",
    "    by_design = 4\n",
    "    closed = 1"
   ]
  },
  {
   "cell_type": "code",
   "execution_count": 33,
   "metadata": {},
   "outputs": [],
   "source": [
    "## using program to create enumeration, strings\n",
    "\n",
    "names_str = 'fix_released fix_committed in_progress wont_fix invalid incomplete new'\n",
    "\n",
    "BugStatus = enum.Enum(\n",
    "    value = \"BugStatus\",\n",
    "    names = (names_str)\n",
    ")"
   ]
  },
  {
   "cell_type": "code",
   "execution_count": 34,
   "metadata": {},
   "outputs": [
    {
     "name": "stdout",
     "output_type": "stream",
     "text": [
      "Member: BugStatus.new\n",
      "\n",
      "All members:\n",
      "fix_released    = 1\n",
      "fix_committed   = 2\n",
      "in_progress     = 3\n",
      "wont_fix        = 4\n",
      "invalid         = 5\n",
      "incomplete      = 6\n",
      "new             = 7\n"
     ]
    }
   ],
   "source": [
    "print('Member: {}'.format(BugStatus.new))\n",
    "print('\\nAll members:')\n",
    "for status in BugStatus:\n",
    "    print('{:15} = {}'.format(status.name, status.value))"
   ]
  },
  {
   "cell_type": "code",
   "execution_count": 35,
   "metadata": {},
   "outputs": [
    {
     "name": "stdout",
     "output_type": "stream",
     "text": [
      "All members:\n",
      "new             = 7\n",
      "incomplete      = 6\n",
      "invalid         = 5\n",
      "wont_fix        = 4\n",
      "in_progress     = 3\n",
      "fix_committed   = 2\n",
      "fix_released    = 1\n"
     ]
    }
   ],
   "source": [
    "## or can pass a list of tuples\n",
    "\n",
    "BugStatus = enum.Enum(\n",
    "value='BugStatus',\n",
    "names=[\n",
    "    ('new', 7),\n",
    "    ('incomplete', 6),\n",
    "    ('invalid', 5),\n",
    "    ('wont_fix', 4),\n",
    "    ('in_progress', 3),\n",
    "    ('fix_committed', 2),\n",
    "    ('fix_released', 1),\n",
    "],\n",
    ")\n",
    "\n",
    "print('All members:')\n",
    "for status in BugStatus:\n",
    "    print('{:15} = {}'.format(status.name, status.value))"
   ]
  },
  {
   "cell_type": "markdown",
   "metadata": {},
   "source": [
    "When to use enumeration?\n",
    "* Variables to work with have finite possible outcome.\n",
    "* Increase readability."
   ]
  },
  {
   "cell_type": "markdown",
   "metadata": {},
   "source": [
    "Read:\n",
    "https://stackoverflow.com/questions/22586895/python-enum-when-and-where-to-use\n",
    "\n",
    "Not only integers can be used as enumeration values, for more complex values, please read references."
   ]
  },
  {
   "cell_type": "markdown",
   "metadata": {},
   "source": [
    "## Collections"
   ]
  },
  {
   "cell_type": "markdown",
   "metadata": {},
   "source": [
    "Data structures beyond list, tuple, dict.  Can be very useful in algorithmic interviews."
   ]
  },
  {
   "cell_type": "markdown",
   "metadata": {},
   "source": [
    "### ChainMap"
   ]
  },
  {
   "cell_type": "markdown",
   "metadata": {},
   "source": [
    "Good to use as a context container. Basically a list of di tionary. A good mind model is to think it as a list sequence of dictionaires."
   ]
  },
  {
   "cell_type": "markdown",
   "metadata": {},
   "source": [
    "Is a good way to deal with command line like structure.\n",
    "\n",
    "i.e:"
   ]
  },
  {
   "cell_type": "code",
   "execution_count": 43,
   "metadata": {},
   "outputs": [
    {
     "name": "stdout",
     "output_type": "stream",
     "text": [
      "total 36\r\n",
      "drwxr-xr-x 3 matthew matthew  4096 Aug 13 23:46  \u001b[0m\u001b[01;34m.\u001b[0m/\r\n",
      "drwxr-xr-x 4 matthew matthew  4096 Aug  9 11:35  \u001b[01;34m..\u001b[0m/\r\n",
      "-rw-r--r-- 1 matthew matthew   712 Aug  9 12:26 'Data Structure.ipynb'\r\n",
      "drwxr-xr-x 2 matthew matthew  4096 Aug  9 12:23  \u001b[01;34m.ipynb_checkpoints\u001b[0m/\r\n",
      "-rw-r--r-- 1 matthew matthew 17357 Aug 13 23:46  session5.ipynb\r\n"
     ]
    }
   ],
   "source": [
    "ls -a -l"
   ]
  },
  {
   "cell_type": "markdown",
   "metadata": {},
   "source": [
    "Using a chained map, we can store the settings of different layer of settings. Examples would be provided later."
   ]
  },
  {
   "cell_type": "code",
   "execution_count": 37,
   "metadata": {},
   "outputs": [],
   "source": [
    "## accessing values\n",
    "import collections\n",
    "\n",
    "a = {'a': 'A', 'c': 'C'}\n",
    "b = {\"b\": \"B\", \"c\": \"D\"}\n",
    "\n",
    "m = collections.ChainMap(a ,b)"
   ]
  },
  {
   "cell_type": "code",
   "execution_count": 38,
   "metadata": {},
   "outputs": [
    {
     "data": {
      "text/plain": [
       "ChainMap({'a': 'A', 'c': 'C'}, {'b': 'B', 'c': 'D'})"
      ]
     },
     "execution_count": 38,
     "metadata": {},
     "output_type": "execute_result"
    }
   ],
   "source": [
    "m"
   ]
  },
  {
   "cell_type": "markdown",
   "metadata": {},
   "source": [
    "We can see it looks like a tuple list:"
   ]
  },
  {
   "cell_type": "code",
   "execution_count": 44,
   "metadata": {},
   "outputs": [
    {
     "data": {
      "text/plain": [
       "({'a': 'A', 'c': 'C'}, {'b': 'B', 'c': 'D'})"
      ]
     },
     "execution_count": 44,
     "metadata": {},
     "output_type": "execute_result"
    }
   ],
   "source": [
    "(a, b)"
   ]
  },
  {
   "cell_type": "code",
   "execution_count": 46,
   "metadata": {},
   "outputs": [
    {
     "name": "stdout",
     "output_type": "stream",
     "text": [
      "Inidivual Values\n",
      "a = A\n",
      "b = B\n",
      "c = C\n"
     ]
    }
   ],
   "source": [
    "print(\"Inidivual Values\")\n",
    "print(\"a = {}\".format(m[\"a\"]))\n",
    "print(\"b = {}\".format(m[\"b\"]))\n",
    "print(\"c = {}\".format(m[\"c\"]))"
   ]
  },
  {
   "cell_type": "markdown",
   "metadata": {},
   "source": [
    "Note that only \"c\" in first dictionary is shown. The first step, finding a key is done in linear search."
   ]
  },
  {
   "cell_type": "code",
   "execution_count": 47,
   "metadata": {},
   "outputs": [
    {
     "name": "stdout",
     "output_type": "stream",
     "text": [
      "Key = ['b', 'c', 'a']\n",
      "Values = ['B', 'C', 'A']\n"
     ]
    }
   ],
   "source": [
    "## get values and keys\n",
    "print(\"Key = {}\".format(list(m.keys())))\n",
    "print(\"Values = {}\".format(list(m.values())))"
   ]
  },
  {
   "cell_type": "markdown",
   "metadata": {},
   "source": [
    "Again, only value in first dictionary is returned."
   ]
  },
  {
   "cell_type": "code",
   "execution_count": 48,
   "metadata": {},
   "outputs": [
    {
     "name": "stdout",
     "output_type": "stream",
     "text": [
      "b = B\n",
      "c = C\n",
      "a = A\n"
     ]
    }
   ],
   "source": [
    "## iteration\n",
    "for k,v in m.items():\n",
    "    print(\"{} = {}\".format(k, v))"
   ]
  },
  {
   "cell_type": "code",
   "execution_count": 49,
   "metadata": {},
   "outputs": [
    {
     "data": {
      "text/plain": [
       "False"
      ]
     },
     "execution_count": 49,
     "metadata": {},
     "output_type": "execute_result"
    }
   ],
   "source": [
    "## check existency\n",
    "\"d\" in m"
   ]
  },
  {
   "cell_type": "code",
   "execution_count": 50,
   "metadata": {},
   "outputs": [
    {
     "name": "stdout",
     "output_type": "stream",
     "text": [
      "[{'a': 'A', 'c': 'C'}, {'b': 'B', 'c': 'D'}]\n"
     ]
    }
   ],
   "source": [
    "## reorindgs\n",
    "print(m.maps)"
   ]
  },
  {
   "cell_type": "code",
   "execution_count": 51,
   "metadata": {},
   "outputs": [
    {
     "name": "stdout",
     "output_type": "stream",
     "text": [
      "C\n"
     ]
    }
   ],
   "source": [
    "print(m[\"c\"])"
   ]
  },
  {
   "cell_type": "code",
   "execution_count": 54,
   "metadata": {},
   "outputs": [],
   "source": [
    "##\n",
    "m_new = m.copy()\n",
    "m_new.maps = list(reversed(m.maps))"
   ]
  },
  {
   "cell_type": "code",
   "execution_count": 56,
   "metadata": {},
   "outputs": [
    {
     "data": {
      "text/plain": [
       "[{'b': 'B', 'c': 'D'}, {'a': 'A', 'c': 'C'}]"
      ]
     },
     "execution_count": 56,
     "metadata": {},
     "output_type": "execute_result"
    }
   ],
   "source": [
    "m_new.maps"
   ]
  },
  {
   "cell_type": "code",
   "execution_count": 57,
   "metadata": {},
   "outputs": [
    {
     "data": {
      "text/plain": [
       "'D'"
      ]
     },
     "execution_count": 57,
     "metadata": {},
     "output_type": "execute_result"
    }
   ],
   "source": [
    "m_new[\"c\"]"
   ]
  },
  {
   "cell_type": "code",
   "execution_count": 58,
   "metadata": {},
   "outputs": [],
   "source": [
    "## updating values, note that child dictionary is not cached.\n",
    "\n",
    "a = {'a': 'A', 'c': 'C'}\n",
    "b = {'b': 'B', 'c': 'D'}\n",
    "m = collections.ChainMap(a, b)"
   ]
  },
  {
   "cell_type": "code",
   "execution_count": 59,
   "metadata": {},
   "outputs": [
    {
     "data": {
      "text/plain": [
       "ChainMap({'a': 'A', 'c': 'C'}, {'b': 'B', 'c': 'D'})"
      ]
     },
     "execution_count": 59,
     "metadata": {},
     "output_type": "execute_result"
    }
   ],
   "source": [
    "m"
   ]
  },
  {
   "cell_type": "code",
   "execution_count": 60,
   "metadata": {},
   "outputs": [],
   "source": [
    "a[\"c\"] = \"E\""
   ]
  },
  {
   "cell_type": "code",
   "execution_count": 61,
   "metadata": {},
   "outputs": [
    {
     "data": {
      "text/plain": [
       "ChainMap({'a': 'A', 'c': 'E'}, {'b': 'B', 'c': 'D'})"
      ]
     },
     "execution_count": 61,
     "metadata": {},
     "output_type": "execute_result"
    }
   ],
   "source": [
    "m"
   ]
  },
  {
   "cell_type": "code",
   "execution_count": 62,
   "metadata": {},
   "outputs": [],
   "source": [
    "## modified m\n",
    "a = {'a': 'A', 'c': 'C'}\n",
    "b = {'b': 'B', 'c': 'D'}\n",
    "m = collections.ChainMap(a, b)\n",
    "\n",
    "m[\"c\"] = \"E\""
   ]
  },
  {
   "cell_type": "code",
   "execution_count": 63,
   "metadata": {},
   "outputs": [
    {
     "data": {
      "text/plain": [
       "{'a': 'A', 'c': 'E'}"
      ]
     },
     "execution_count": 63,
     "metadata": {},
     "output_type": "execute_result"
    }
   ],
   "source": [
    "a"
   ]
  },
  {
   "cell_type": "code",
   "execution_count": 64,
   "metadata": {},
   "outputs": [
    {
     "data": {
      "text/plain": [
       "{'b': 'B', 'c': 'D'}"
      ]
     },
     "execution_count": 64,
     "metadata": {},
     "output_type": "execute_result"
    }
   ],
   "source": [
    "b"
   ]
  },
  {
   "cell_type": "markdown",
   "metadata": {},
   "source": [
    "A is modified and b states unchanged."
   ]
  },
  {
   "cell_type": "code",
   "execution_count": 65,
   "metadata": {},
   "outputs": [],
   "source": [
    "## new child. Most powerful feature of chained-map\n",
    "a = {'a': 'A', 'c': 'C'}\n",
    "b = {'b': 'B', 'c': 'D'}\n",
    "m1 = collections.ChainMap(a, b)\n",
    "m2 = m1.new_child()"
   ]
  },
  {
   "cell_type": "code",
   "execution_count": 66,
   "metadata": {},
   "outputs": [
    {
     "data": {
      "text/plain": [
       "ChainMap({'a': 'A', 'c': 'C'}, {'b': 'B', 'c': 'D'})"
      ]
     },
     "execution_count": 66,
     "metadata": {},
     "output_type": "execute_result"
    }
   ],
   "source": [
    "m1"
   ]
  },
  {
   "cell_type": "code",
   "execution_count": 67,
   "metadata": {},
   "outputs": [
    {
     "data": {
      "text/plain": [
       "ChainMap({}, {'a': 'A', 'c': 'C'}, {'b': 'B', 'c': 'D'})"
      ]
     },
     "execution_count": 67,
     "metadata": {},
     "output_type": "execute_result"
    }
   ],
   "source": [
    "m2"
   ]
  },
  {
   "cell_type": "code",
   "execution_count": 68,
   "metadata": {},
   "outputs": [],
   "source": [
    "m2[\"c\"] = \"E\""
   ]
  },
  {
   "cell_type": "code",
   "execution_count": 69,
   "metadata": {},
   "outputs": [
    {
     "data": {
      "text/plain": [
       "ChainMap({'a': 'A', 'c': 'C'}, {'b': 'B', 'c': 'D'})"
      ]
     },
     "execution_count": 69,
     "metadata": {},
     "output_type": "execute_result"
    }
   ],
   "source": [
    "m1"
   ]
  },
  {
   "cell_type": "code",
   "execution_count": 70,
   "metadata": {},
   "outputs": [
    {
     "data": {
      "text/plain": [
       "ChainMap({'c': 'E'}, {'a': 'A', 'c': 'C'}, {'b': 'B', 'c': 'D'})"
      ]
     },
     "execution_count": 70,
     "metadata": {},
     "output_type": "execute_result"
    }
   ],
   "source": [
    "m2"
   ]
  },
  {
   "cell_type": "markdown",
   "metadata": {},
   "source": [
    "Why don't we just use an oridinary dictionary? Check:\n",
    "\n",
    "https://stackoverflow.com/questions/23392976/what-is-the-purpose-of-collections-chainmap"
   ]
  },
  {
   "cell_type": "markdown",
   "metadata": {},
   "source": [
    "Also, check an example script."
   ]
  },
  {
   "cell_type": "markdown",
   "metadata": {},
   "source": [
    "### Counter"
   ]
  },
  {
   "cell_type": "markdown",
   "metadata": {},
   "source": [
    "A Counter is a container that keeps track of how many times equivalent values are added."
   ]
  },
  {
   "cell_type": "code",
   "execution_count": 84,
   "metadata": {},
   "outputs": [
    {
     "data": {
      "text/plain": [
       "Counter({'a': 2, 'b': 3, 'c': 1})"
      ]
     },
     "execution_count": 84,
     "metadata": {},
     "output_type": "execute_result"
    }
   ],
   "source": [
    "## consruction. Passing sequence container\n",
    "collections.Counter([\"a\", \"b\", \"c\", \"a\", \"b\", \"b\"])"
   ]
  },
  {
   "cell_type": "code",
   "execution_count": 85,
   "metadata": {},
   "outputs": [
    {
     "data": {
      "text/plain": [
       "Counter({'a': 2, 'b': 3, 'c': 1})"
      ]
     },
     "execution_count": 85,
     "metadata": {},
     "output_type": "execute_result"
    }
   ],
   "source": [
    "## second way, passing dictionary\n",
    "collections.Counter({\"a\": 2, \"b\":3, \"c\":1})"
   ]
  },
  {
   "cell_type": "code",
   "execution_count": 86,
   "metadata": {},
   "outputs": [
    {
     "data": {
      "text/plain": [
       "Counter({'a': 2, 'b': 3, 'c': 1})"
      ]
     },
     "execution_count": 86,
     "metadata": {},
     "output_type": "execute_result"
    }
   ],
   "source": [
    "## third way, passing arguments\n",
    "collections.Counter( a = 2, b =3 , c = 1)"
   ]
  },
  {
   "cell_type": "code",
   "execution_count": 90,
   "metadata": {},
   "outputs": [],
   "source": [
    "## updates\n",
    "c = collections.Counter()"
   ]
  },
  {
   "cell_type": "code",
   "execution_count": 91,
   "metadata": {},
   "outputs": [
    {
     "data": {
      "text/plain": [
       "Counter()"
      ]
     },
     "execution_count": 91,
     "metadata": {},
     "output_type": "execute_result"
    }
   ],
   "source": [
    "c"
   ]
  },
  {
   "cell_type": "code",
   "execution_count": 92,
   "metadata": {},
   "outputs": [],
   "source": [
    "c.update(\"abcdaab\")"
   ]
  },
  {
   "cell_type": "code",
   "execution_count": 93,
   "metadata": {},
   "outputs": [
    {
     "data": {
      "text/plain": [
       "Counter({'a': 3, 'b': 2, 'c': 1, 'd': 1})"
      ]
     },
     "execution_count": 93,
     "metadata": {},
     "output_type": "execute_result"
    }
   ],
   "source": [
    "c"
   ]
  },
  {
   "cell_type": "code",
   "execution_count": 94,
   "metadata": {},
   "outputs": [],
   "source": [
    "c.update({\"a\" : 1, \"d\": 5})  ## note this is baesd on increase"
   ]
  },
  {
   "cell_type": "code",
   "execution_count": 95,
   "metadata": {},
   "outputs": [
    {
     "data": {
      "text/plain": [
       "Counter({'a': 4, 'b': 2, 'c': 1, 'd': 6})"
      ]
     },
     "execution_count": 95,
     "metadata": {},
     "output_type": "execute_result"
    }
   ],
   "source": [
    "c"
   ]
  },
  {
   "cell_type": "code",
   "execution_count": 96,
   "metadata": {},
   "outputs": [],
   "source": [
    "c.update({\"a\" : -1})"
   ]
  },
  {
   "cell_type": "code",
   "execution_count": 97,
   "metadata": {},
   "outputs": [
    {
     "data": {
      "text/plain": [
       "Counter({'a': 3, 'b': 2, 'c': 1, 'd': 6})"
      ]
     },
     "execution_count": 97,
     "metadata": {},
     "output_type": "execute_result"
    }
   ],
   "source": [
    "c"
   ]
  },
  {
   "cell_type": "markdown",
   "metadata": {},
   "source": [
    "We can also pass negative number."
   ]
  },
  {
   "cell_type": "code",
   "execution_count": 99,
   "metadata": {},
   "outputs": [],
   "source": [
    "c.update({\"a\": 0.34})"
   ]
  },
  {
   "cell_type": "code",
   "execution_count": 100,
   "metadata": {},
   "outputs": [
    {
     "data": {
      "text/plain": [
       "Counter({'a': 3.34, 'b': 2, 'c': 1, 'd': 6})"
      ]
     },
     "execution_count": 100,
     "metadata": {},
     "output_type": "execute_result"
    }
   ],
   "source": [
    "c"
   ]
  },
  {
   "cell_type": "markdown",
   "metadata": {},
   "source": [
    "Can also accept fractional number."
   ]
  },
  {
   "cell_type": "code",
   "execution_count": 101,
   "metadata": {},
   "outputs": [
    {
     "name": "stdout",
     "output_type": "stream",
     "text": [
      "a : 3\n",
      "b : 2\n",
      "c : 1\n",
      "d : 1\n",
      "e : 0\n"
     ]
    }
   ],
   "source": [
    "import collections\n",
    "\n",
    "c = collections.Counter(\"abcdaab\")\n",
    "\n",
    "for letter in \"abcde\":\n",
    "    print(\"{} : {}\".format(letter, c[letter]))"
   ]
  },
  {
   "cell_type": "markdown",
   "metadata": {},
   "source": [
    "If a value does not present in the counter, the zero would occur."
   ]
  },
  {
   "cell_type": "code",
   "execution_count": 104,
   "metadata": {},
   "outputs": [
    {
     "name": "stdout",
     "output_type": "stream",
     "text": [
      "Counter({'e': 3, 'x': 1, 't': 1, 'r': 1, 'm': 1, 'l': 1, 'y': 1, 'z': 0})\n",
      "['e', 'e', 'e', 'x', 't', 'r', 'm', 'l', 'y']\n"
     ]
    }
   ],
   "source": [
    "## access elemntes\n",
    "c = collections.Counter(\"extremely\")\n",
    "c[\"z\"] = 0\n",
    "print(c)\n",
    "print(list(c.elements()))  "
   ]
  },
  {
   "cell_type": "markdown",
   "metadata": {},
   "source": [
    "The order of elmenets are not guranteed and the elements with counter less than or equal to 0 are not returned."
   ]
  },
  {
   "cell_type": "code",
   "execution_count": 111,
   "metadata": {
    "scrolled": true
   },
   "outputs": [
    {
     "name": "stdout",
     "output_type": "stream",
     "text": [
      "Baruch MFE won the 2020 9th IAQF Student Competition; news article from Baruch MFE.\n",
      "\n",
      "Baruch MFE won the 2020 Rotman International Trading Competition; news article from Baruch College.\n",
      "\n",
      "The 2019 Baruch MFE 5th Year Career Development Report can be found here. Featured in The Wall Street Journal in December 2019.\n",
      "\n",
      "Employment Statistics (December 2019 – May 2020)\n",
      "\n",
      "Placement Rate: 30 of 30\n",
      "\n",
      "Starting Salary: High 160K;  Low 95K;  Median 120K;  Average 122K\n",
      "\n",
      "First Year Guaranteed Compensation: High 235K;  Low 95K;  Median 140K;  Average 147K\n",
      "\n",
      "Employers (by type): Hedge Funds/Prop Trading/Asset Management: 50%, Investment Banks: 40%, FinTech/Tech: 10%\n",
      "\n",
      "Employers (some with multiple hires; selected): AQR, Bank of America, Barclays, Beacon Platform, BlackRock, Citadel, Credit Suisse, Cubist, Goldman Sachs, IMC Trading, Millennium, Morgan Stanley, Point72, Quantitative Brokers, Societe Generale, Squarepoint Capital, TD Securities, UBS\n",
      "\n",
      "Location: New York: 90%, US (Other) 10%\n",
      "\n",
      "Internship Statistics (Summer 2020)\n",
      "\n",
      "Placement Rate: 29 of 29\n",
      "\n",
      "Monthly Compensation: High $13,500;  Low $4,700;  Median $10,000;  Average $9,000\n",
      "\n",
      "Employers (by type): Hedge Funds/Prop Trading/Asset Management: 45%, Investment Banks: 48%, FinTech/Tech: 7%\n",
      "\n",
      "Employers (some with multiple hires; selected): Aigen Investment Management, Alphadyne, Arrowstreet Capital, Bank of America, Barclays, BNP Paribas, BNY Mellon, Citigroup, Credit Suisse, Goldman Sachs, IMC Trading, JPMorgan, Quantitative Brokers, RBC Capital Markets, Schonfeld, Simon Markets, Squarepoint Capital, Tibra Capital, VanEck\n",
      "\n",
      "Location: New York: 90%, US (Other) 10%\n",
      "\n",
      "The Baruch MFE Program was ranked Number 3 worldwide in the 2020 Risk.net Quant Finance Master’s Guide\n",
      "\n",
      "The Baruch MFE Program was ranked Number 2 in the Quantnet 2020 Ranking of Best Financial Engineering Programs.\n",
      "\n",
      "Enrollment is now open for the February-March 2020 Pre-MFE On-Site seminars. Enrollment for each seminar is limited to 40 people.\n",
      "\n",
      "Advanced Calculus with Financial Engineering Applications (syllabus)\n",
      "\n",
      "Probability Theory for Financial Applications (syllabus)\n",
      "\n",
      "Numerical Linear Algebra for Financial Engineering (syllabus)\n",
      "\n",
      "Registration information, dates, syllabi and more information can be found here.\n",
      "\n",
      "Student Feedback: AC-FE, Probability, NLA.\n",
      "\n",
      "\n",
      "\n",
      "Fall 2019 Admission Statistics:\n",
      "\n",
      "506 Applicants; 44 Admitted; 30 Enrolled (29 Full Time, 1 Part Time)\n",
      "\n",
      "Admitted Applicants: Average GPA 3.75, Average GRE Scores: 169.5 Quantitative, 158 Verbal\n",
      "\n",
      "The 2017-2019 Baruch MFE Employment Report contains full-time and internship numbers aggregated over the last three years, and including details on employers, job functions, job industry.\n",
      "\n",
      "Baruch MFE student Xiangtian (Forest) Deng was on the winning team (out of 30 teams) at the 2018 Columbia Data Science Hackathon.\n",
      "\n",
      "Enrollment is open for the Baruch Pre-MFE Online Seminars:\n",
      "\n",
      "C++ Programming for Financial Engineering Certificate\n",
      "\n",
      "Advanced C++11/C++14 and Multidisciplinary Applications\n",
      "\n",
      "VBA/Python/SQL with Applications\n",
      "\n",
      " :    385\n",
      "e:    255\n",
      "a:    214\n"
     ]
    }
   ],
   "source": [
    "## count most common \n",
    "c = collections.Counter()\n",
    "with open(\"./program_news.txt\", \"rt\") as f:\n",
    "    for line in f:\n",
    "        print(line)\n",
    "        c.update(line.rstrip().lower()) ## remove trailing characters\n",
    "\n",
    "\n",
    "for letter, count in c.most_common(3):\n",
    "    print(\"{}:{:>7}\".format(letter, count))"
   ]
  },
  {
   "cell_type": "code",
   "execution_count": 115,
   "metadata": {},
   "outputs": [],
   "source": [
    "## arithmetic\n",
    "c1 = collections.Counter([\"a\", \"b\", \"c\", \"a\", \"b\", \"b\"])\n",
    "c2 = collections.Counter(\"alphabet\")"
   ]
  },
  {
   "cell_type": "code",
   "execution_count": 116,
   "metadata": {},
   "outputs": [
    {
     "data": {
      "text/plain": [
       "Counter({'a': 2, 'b': 3, 'c': 1})"
      ]
     },
     "execution_count": 116,
     "metadata": {},
     "output_type": "execute_result"
    }
   ],
   "source": [
    "c1"
   ]
  },
  {
   "cell_type": "code",
   "execution_count": 117,
   "metadata": {},
   "outputs": [
    {
     "data": {
      "text/plain": [
       "Counter({'a': 2, 'l': 1, 'p': 1, 'h': 1, 'b': 1, 'e': 1, 't': 1})"
      ]
     },
     "execution_count": 117,
     "metadata": {},
     "output_type": "execute_result"
    }
   ],
   "source": [
    "c2"
   ]
  },
  {
   "cell_type": "code",
   "execution_count": 118,
   "metadata": {},
   "outputs": [
    {
     "data": {
      "text/plain": [
       "Counter({'a': 4, 'b': 4, 'c': 1, 'l': 1, 'p': 1, 'h': 1, 'e': 1, 't': 1})"
      ]
     },
     "execution_count": 118,
     "metadata": {},
     "output_type": "execute_result"
    }
   ],
   "source": [
    "## add\n",
    "c1 + c2"
   ]
  },
  {
   "cell_type": "markdown",
   "metadata": {},
   "source": [
    "Again, this is like SQL outter join"
   ]
  },
  {
   "cell_type": "code",
   "execution_count": 122,
   "metadata": {},
   "outputs": [
    {
     "data": {
      "text/plain": [
       "Counter({'a': 2, 'b': 3, 'c': 1, 'l': 1, 'p': 1, 'h': 1, 'e': 1, 't': 1})"
      ]
     },
     "execution_count": 122,
     "metadata": {},
     "output_type": "execute_result"
    }
   ],
   "source": [
    "## union, take possible maximum\n",
    "c1 | c2"
   ]
  },
  {
   "cell_type": "code",
   "execution_count": 123,
   "metadata": {},
   "outputs": [
    {
     "data": {
      "text/plain": [
       "Counter({'a': 2, 'b': 1})"
      ]
     },
     "execution_count": 123,
     "metadata": {},
     "output_type": "execute_result"
    }
   ],
   "source": [
    "## intersection take possible minimujm\n",
    "c1 & c2"
   ]
  },
  {
   "cell_type": "code",
   "execution_count": 125,
   "metadata": {},
   "outputs": [
    {
     "data": {
      "text/plain": [
       "Counter({'b': 2, 'c': 1})"
      ]
     },
     "execution_count": 125,
     "metadata": {},
     "output_type": "execute_result"
    }
   ],
   "source": [
    "## substraction, 0 and negative values won't show\n",
    "c1 - c2"
   ]
  },
  {
   "cell_type": "markdown",
   "metadata": {},
   "source": [
    "### Default dict"
   ]
  },
  {
   "cell_type": "markdown",
   "metadata": {},
   "source": [
    "A generilization of dict object, can specify default behavior when constructed."
   ]
  },
  {
   "cell_type": "code",
   "execution_count": 127,
   "metadata": {},
   "outputs": [
    {
     "data": {
      "text/plain": [
       "defaultdict(<function __main__.default_factor()>, {'foo': 'bar'})"
      ]
     },
     "execution_count": 127,
     "metadata": {},
     "output_type": "execute_result"
    }
   ],
   "source": [
    "def default_factor():\n",
    "    return \"default value\"\n",
    "\n",
    "d = collections.defaultdict(default_factor, foo = \"bar\")\n",
    "d"
   ]
  },
  {
   "cell_type": "code",
   "execution_count": 128,
   "metadata": {},
   "outputs": [
    {
     "data": {
      "text/plain": [
       "'bar'"
      ]
     },
     "execution_count": 128,
     "metadata": {},
     "output_type": "execute_result"
    }
   ],
   "source": [
    "d[\"foo\"]"
   ]
  },
  {
   "cell_type": "code",
   "execution_count": 129,
   "metadata": {},
   "outputs": [
    {
     "data": {
      "text/plain": [
       "'default value'"
      ]
     },
     "execution_count": 129,
     "metadata": {},
     "output_type": "execute_result"
    }
   ],
   "source": [
    "d[\"bar\"]"
   ]
  },
  {
   "cell_type": "markdown",
   "metadata": {},
   "source": [
    "### Deque"
   ]
  },
  {
   "cell_type": "markdown",
   "metadata": {},
   "source": [
    "A powerful datastructure in algorithmeic interview, It has the property of both queue and stack. I recommend just use this data structure to solve queue/ stack questions, so you can save times thinking about API of different data structure.\n",
    "\n",
    "In computer science, stack or queue can be used to store works to be done, as we could see later."
   ]
  },
  {
   "cell_type": "code",
   "execution_count": 130,
   "metadata": {},
   "outputs": [],
   "source": [
    "## basic operaitons\n",
    "d = collections.deque(\"abcdefg\")"
   ]
  },
  {
   "cell_type": "code",
   "execution_count": 132,
   "metadata": {},
   "outputs": [
    {
     "data": {
      "text/plain": [
       "deque(['a', 'b', 'c', 'd', 'e', 'f', 'g'])"
      ]
     },
     "execution_count": 132,
     "metadata": {},
     "output_type": "execute_result"
    }
   ],
   "source": [
    "## looks like a list\n",
    "d"
   ]
  },
  {
   "cell_type": "code",
   "execution_count": 133,
   "metadata": {},
   "outputs": [
    {
     "data": {
      "text/plain": [
       "7"
      ]
     },
     "execution_count": 133,
     "metadata": {},
     "output_type": "execute_result"
    }
   ],
   "source": [
    "len(d)"
   ]
  },
  {
   "cell_type": "code",
   "execution_count": 134,
   "metadata": {},
   "outputs": [
    {
     "data": {
      "text/plain": [
       "'c'"
      ]
     },
     "execution_count": 134,
     "metadata": {},
     "output_type": "execute_result"
    }
   ],
   "source": [
    "d[2]"
   ]
  },
  {
   "cell_type": "code",
   "execution_count": 135,
   "metadata": {},
   "outputs": [
    {
     "data": {
      "text/plain": [
       "'a'"
      ]
     },
     "execution_count": 135,
     "metadata": {},
     "output_type": "execute_result"
    }
   ],
   "source": [
    "d[0]"
   ]
  },
  {
   "cell_type": "code",
   "execution_count": 136,
   "metadata": {},
   "outputs": [
    {
     "data": {
      "text/plain": [
       "'g'"
      ]
     },
     "execution_count": 136,
     "metadata": {},
     "output_type": "execute_result"
    }
   ],
   "source": [
    "d[-1]"
   ]
  },
  {
   "cell_type": "code",
   "execution_count": 138,
   "metadata": {},
   "outputs": [
    {
     "ename": "TypeError",
     "evalue": "sequence index must be integer, not 'slice'",
     "output_type": "error",
     "traceback": [
      "\u001b[0;31m---------------------------------------------------------------------------\u001b[0m",
      "\u001b[0;31mTypeError\u001b[0m                                 Traceback (most recent call last)",
      "\u001b[0;32m<ipython-input-138-ba5841b4ff05>\u001b[0m in \u001b[0;36m<module>\u001b[0;34m\u001b[0m\n\u001b[1;32m      1\u001b[0m \u001b[0;31m## supporting slice\u001b[0m\u001b[0;34m\u001b[0m\u001b[0;34m\u001b[0m\u001b[0;34m\u001b[0m\u001b[0m\n\u001b[0;32m----> 2\u001b[0;31m \u001b[0md\u001b[0m\u001b[0;34m[\u001b[0m\u001b[0;36m1\u001b[0m\u001b[0;34m:\u001b[0m\u001b[0;36m5\u001b[0m\u001b[0;34m]\u001b[0m\u001b[0;34m\u001b[0m\u001b[0;34m\u001b[0m\u001b[0m\n\u001b[0m",
      "\u001b[0;31mTypeError\u001b[0m: sequence index must be integer, not 'slice'"
     ]
    }
   ],
   "source": [
    "## supporting slice\n",
    "d[1:5]"
   ]
  },
  {
   "cell_type": "code",
   "execution_count": 154,
   "metadata": {},
   "outputs": [
    {
     "data": {
      "text/plain": [
       "deque(['a', 'b', 'c', 'd', 'e', 'f', 'g'])"
      ]
     },
     "execution_count": 154,
     "metadata": {},
     "output_type": "execute_result"
    }
   ],
   "source": [
    "## extending\n",
    "d1 = collections.deque()\n",
    "d1.extend(\"abcdefg\")\n",
    "d1"
   ]
  },
  {
   "cell_type": "code",
   "execution_count": 140,
   "metadata": {},
   "outputs": [],
   "source": [
    "d1.append(\"h\")"
   ]
  },
  {
   "cell_type": "code",
   "execution_count": 141,
   "metadata": {},
   "outputs": [
    {
     "data": {
      "text/plain": [
       "deque(['a', 'b', 'c', 'd', 'e', 'f', 'g', 'h'])"
      ]
     },
     "execution_count": 141,
     "metadata": {},
     "output_type": "execute_result"
    }
   ],
   "source": [
    "d1"
   ]
  },
  {
   "cell_type": "code",
   "execution_count": 149,
   "metadata": {},
   "outputs": [],
   "source": [
    "## add to left\n",
    "d2 = collections.deque()\n",
    "d2.extendleft(range(6))"
   ]
  },
  {
   "cell_type": "code",
   "execution_count": 150,
   "metadata": {},
   "outputs": [
    {
     "data": {
      "text/plain": [
       "deque([5, 4, 3, 2, 1, 0])"
      ]
     },
     "execution_count": 150,
     "metadata": {},
     "output_type": "execute_result"
    }
   ],
   "source": [
    "d2"
   ]
  },
  {
   "cell_type": "code",
   "execution_count": 151,
   "metadata": {},
   "outputs": [],
   "source": [
    "d2.appendleft(6)"
   ]
  },
  {
   "cell_type": "code",
   "execution_count": 152,
   "metadata": {},
   "outputs": [
    {
     "data": {
      "text/plain": [
       "deque([6, 5, 4, 3, 2, 1, 0])"
      ]
     },
     "execution_count": 152,
     "metadata": {},
     "output_type": "execute_result"
    }
   ],
   "source": [
    "d2"
   ]
  },
  {
   "cell_type": "code",
   "execution_count": 153,
   "metadata": {},
   "outputs": [
    {
     "name": "stdout",
     "output_type": "stream",
     "text": [
      "gfedcba"
     ]
    }
   ],
   "source": [
    "## consuming, populating from right\n",
    "d = collections.deque(\"abcdefg\")\n",
    "while True:\n",
    "    try:\n",
    "        print(d.pop(), end = \"\")\n",
    "    except IndexError:\n",
    "        break"
   ]
  },
  {
   "cell_type": "code",
   "execution_count": 156,
   "metadata": {},
   "outputs": [
    {
     "name": "stdout",
     "output_type": "stream",
     "text": [
      "012345"
     ]
    }
   ],
   "source": [
    "## consuming, populating from left\n",
    "d = collections.deque(range(6))\n",
    "while True:\n",
    "    try:\n",
    "        print(d.popleft(), end='')\n",
    "    except IndexError:\n",
    "        break"
   ]
  },
  {
   "cell_type": "markdown",
   "metadata": {},
   "source": [
    "This is a classical multithreading pattern called boss/ worker model. Main program servers as a boss, and it assigns tasks to the workers, which are differnt threads. We would discuss more about it later. "
   ]
  },
  {
   "cell_type": "code",
   "execution_count": 157,
   "metadata": {},
   "outputs": [
    {
     "name": "stdout",
     "output_type": "stream",
     "text": [
      "Normal : deque([0, 1, 2, 3, 4, 5, 6, 7, 8, 9])\n",
      "Right rotation deque([8, 9, 0, 1, 2, 3, 4, 5, 6, 7])\n",
      "Left rotation deque([2, 3, 4, 5, 6, 7, 8, 9, 0, 1])\n"
     ]
    }
   ],
   "source": [
    "## rotation\n",
    "\n",
    "d = collections.deque(range(10))\n",
    "print(\"Normal :\", d)\n",
    "\n",
    "d = collections.deque(range(10))\n",
    "d.rotate(2)\n",
    "print(\"Right rotation\",d)\n",
    "\n",
    "d = collections.deque(range(10))\n",
    "d.rotate(-2)\n",
    "print(\"Left rotation\", d)"
   ]
  },
  {
   "cell_type": "markdown",
   "metadata": {},
   "source": [
    "### Named Tuple/ Ordered diciontary"
   ]
  },
  {
   "cell_type": "code",
   "execution_count": 164,
   "metadata": {},
   "outputs": [
    {
     "name": "stdout",
     "output_type": "stream",
     "text": [
      "\n",
      "RepresentationL: Person(name='Bob', age=30)\n",
      "Bob is 30 years old\n"
     ]
    }
   ],
   "source": [
    "## named tuple, looks like struct in C\n",
    "\n",
    "Person = collections.namedtuple(\"Person\", \"name age\")\n",
    "\n",
    "bob = Person(name = \"Bob\", age = 30)\n",
    "print(\"\\nRepresentationL:\", bob)\n",
    "\n",
    "## by index\n",
    "print(\"{} is {} years old\".format(*bob))"
   ]
  },
  {
   "cell_type": "code",
   "execution_count": 165,
   "metadata": {},
   "outputs": [
    {
     "name": "stdout",
     "output_type": "stream",
     "text": [
      "30 Bob\n"
     ]
    }
   ],
   "source": [
    "print(bob.age, bob.name)"
   ]
  },
  {
   "cell_type": "markdown",
   "metadata": {},
   "source": [
    "Very similar to struct in C."
   ]
  },
  {
   "cell_type": "code",
   "execution_count": 184,
   "metadata": {},
   "outputs": [
    {
     "name": "stdout",
     "output_type": "stream",
     "text": [
      "a A\n",
      "b B\n",
      "c C\n"
     ]
    }
   ],
   "source": [
    "## ordered dict\n",
    "d = collections.OrderedDict()\n",
    "d['a'] = \"A\"\n",
    "d['b'] = \"B\"\n",
    "d['c'] = \"C\"\n",
    "for k, v in d.items():\n",
    "    print(k, v)"
   ]
  },
  {
   "cell_type": "markdown",
   "metadata": {},
   "source": [
    "Anyone find this data structure similar to what we discussed?"
   ]
  },
  {
   "cell_type": "markdown",
   "metadata": {},
   "source": [
    "### Array"
   ]
  },
  {
   "cell_type": "markdown",
   "metadata": {},
   "source": [
    "It is just a C array. If you want to impress interviewer you can use this data strcuture, since it is much more efficient to solve standard array problems than python."
   ]
  },
  {
   "cell_type": "code",
   "execution_count": 191,
   "metadata": {},
   "outputs": [
    {
     "name": "stdout",
     "output_type": "stream",
     "text": [
      "Initial : array('i', [0, 1, 2])\n"
     ]
    }
   ],
   "source": [
    "## initialization \n",
    "import array\n",
    "import pprint\n",
    "\n",
    "a = array.array('i', range(3))\n",
    "print(\"Initial :\", a)"
   ]
  },
  {
   "cell_type": "markdown",
   "metadata": {},
   "source": [
    "### Heapq"
   ]
  },
  {
   "cell_type": "markdown",
   "metadata": {},
   "source": [
    "A data structure that implments heap. Anyone knows what is a heap?"
   ]
  },
  {
   "cell_type": "code",
   "execution_count": 203,
   "metadata": {},
   "outputs": [],
   "source": [
    "## example and plot function\n",
    "data = [19, 9, 4, 10, 11]\n",
    "\n",
    "import math\n",
    "import heapq\n",
    "from io import StringIO\n",
    "def show_tree(tree, total_width=36, fill=' '):\n",
    "    \"\"\"Pretty-print a tree.\"\"\"\n",
    "    output = StringIO()\n",
    "    last_row = -1\n",
    "    for i, n in enumerate(tree):\n",
    "        if i:\n",
    "            row = int(math.floor(math.log(i + 1, 2)))\n",
    "        else:\n",
    "            row = 0\n",
    "        if row != last_row:\n",
    "            output.write('\\n')\n",
    "        columns = 2 ** row\n",
    "        col_width = int(math.floor(total_width / columns))\n",
    "        output.write(str(n).center(col_width, fill))\n",
    "        last_row = row\n",
    "    print(output.getvalue())\n",
    "    print('-' * total_width)\n",
    "    print()"
   ]
  },
  {
   "cell_type": "code",
   "execution_count": 204,
   "metadata": {},
   "outputs": [
    {
     "name": "stdout",
     "output_type": "stream",
     "text": [
      "[19, 9, 4, 10, 11]\n"
     ]
    }
   ],
   "source": [
    "## creating a heap\n",
    "heap = []\n",
    "print(data)"
   ]
  },
  {
   "cell_type": "code",
   "execution_count": 205,
   "metadata": {},
   "outputs": [
    {
     "name": "stdout",
     "output_type": "stream",
     "text": [
      "add  19\n",
      "\n",
      "                 19                 \n",
      "------------------------------------\n",
      "\n",
      "add   9\n",
      "\n",
      "                 9                  \n",
      "        19        \n",
      "------------------------------------\n",
      "\n",
      "add   4\n",
      "\n",
      "                 4                  \n",
      "        19                9         \n",
      "------------------------------------\n",
      "\n",
      "add  10\n",
      "\n",
      "                 4                  \n",
      "        10                9         \n",
      "    19   \n",
      "------------------------------------\n",
      "\n",
      "add  11\n",
      "\n",
      "                 4                  \n",
      "        10                9         \n",
      "    19       11   \n",
      "------------------------------------\n",
      "\n"
     ]
    }
   ],
   "source": [
    "for n in data:\n",
    "    print(\"add {:>3}\".format(n))\n",
    "    heapq.heappush(heap, n)\n",
    "    show_tree(heap)"
   ]
  },
  {
   "cell_type": "code",
   "execution_count": 206,
   "metadata": {},
   "outputs": [
    {
     "data": {
      "text/plain": [
       "[4, 10, 9, 19, 11]"
      ]
     },
     "execution_count": 206,
     "metadata": {},
     "output_type": "execute_result"
    }
   ],
   "source": [
    "heap"
   ]
  },
  {
   "cell_type": "markdown",
   "metadata": {},
   "source": [
    "Note even though conceptually heap is a tree-like structure, it can be represented as an array."
   ]
  },
  {
   "cell_type": "code",
   "execution_count": 207,
   "metadata": {},
   "outputs": [
    {
     "data": {
      "text/plain": [
       "[19, 9, 4, 10, 11]"
      ]
     },
     "execution_count": 207,
     "metadata": {},
     "output_type": "execute_result"
    }
   ],
   "source": [
    "## \n",
    "data"
   ]
  },
  {
   "cell_type": "code",
   "execution_count": 208,
   "metadata": {},
   "outputs": [],
   "source": [
    "heapq.heapify(data)"
   ]
  },
  {
   "cell_type": "code",
   "execution_count": 209,
   "metadata": {},
   "outputs": [
    {
     "data": {
      "text/plain": [
       "[4, 9, 19, 10, 11]"
      ]
     },
     "execution_count": 209,
     "metadata": {},
     "output_type": "execute_result"
    }
   ],
   "source": [
    "data"
   ]
  },
  {
   "cell_type": "code",
   "execution_count": 210,
   "metadata": {},
   "outputs": [
    {
     "name": "stdout",
     "output_type": "stream",
     "text": [
      "\n",
      "                 4                  \n",
      "        9                 19        \n",
      "    10       11   \n",
      "------------------------------------\n",
      "\n"
     ]
    }
   ],
   "source": [
    "show_tree(data)"
   ]
  },
  {
   "cell_type": "markdown",
   "metadata": {},
   "source": [
    "Preserve the minimal heap property."
   ]
  },
  {
   "cell_type": "code",
   "execution_count": 211,
   "metadata": {},
   "outputs": [
    {
     "name": "stdout",
     "output_type": "stream",
     "text": [
      "pop   4\n",
      "\n",
      "                 9                  \n",
      "        10                19        \n",
      "    11   \n",
      "------------------------------------\n",
      "\n",
      "pop   9\n",
      "\n",
      "                 10                 \n",
      "        11                19        \n",
      "------------------------------------\n",
      "\n"
     ]
    }
   ],
   "source": [
    "## accessign the content of the heap\n",
    "for i in range(2):\n",
    "    smallest = heapq.heappop(data)\n",
    "    print(\"pop {:>3}\".format(smallest))\n",
    "    show_tree(data)"
   ]
  },
  {
   "cell_type": "code",
   "execution_count": 213,
   "metadata": {},
   "outputs": [
    {
     "name": "stdout",
     "output_type": "stream",
     "text": [
      "push   0\n",
      "\n",
      "                 0                  \n",
      "        10                19        \n",
      "    11   \n",
      "------------------------------------\n",
      "\n",
      "push   1\n",
      "\n",
      "                 0                  \n",
      "        1                 19        \n",
      "    11       10   \n",
      "------------------------------------\n",
      "\n",
      "push   2\n",
      "\n",
      "                 0                  \n",
      "        1                 2         \n",
      "    11       10       19   \n",
      "------------------------------------\n",
      "\n",
      "push   3\n",
      "\n",
      "                 0                  \n",
      "        1                 2         \n",
      "    11       10       19       3    \n",
      "------------------------------------\n",
      "\n"
     ]
    }
   ],
   "source": [
    "## push \n",
    "for i in range(4):\n",
    "    print(\"push {:>3}\".format(i))\n",
    "    heapq.heappush(data, i)\n",
    "    show_tree(data)"
   ]
  },
  {
   "cell_type": "markdown",
   "metadata": {},
   "source": [
    "# Functional programming related"
   ]
  },
  {
   "cell_type": "markdown",
   "metadata": {},
   "source": [
    "## Functiontools"
   ]
  },
  {
   "cell_type": "markdown",
   "metadata": {},
   "source": [
    "Manipulating functions as objects."
   ]
  },
  {
   "cell_type": "code",
   "execution_count": 11,
   "metadata": {},
   "outputs": [
    {
     "name": "stdout",
     "output_type": "stream",
     "text": [
      "myfunc:\n",
      " object: <function myfunc at 0x7f12945b90d0>\n",
      " __name__: myfunc\n",
      " called myfunc with: ('a', 3)\n",
      "\n",
      "partial with named default:\n",
      " object: functools.partial(<function myfunc at 0x7f12945b90d0>, b=4)\n",
      " func: <function myfunc at 0x7f12945b90d0>\n",
      " args: ()\n",
      " keywords: {'b': 4}\n",
      " called myfunc with: ('passing a', 4)\n",
      " called myfunc with: ('override b', 5)\n",
      "\n",
      "partial with defaults:\n",
      " object: functools.partial(<function myfunc at 0x7f12945b90d0>, 'default a', b=99)\n",
      " func: <function myfunc at 0x7f12945b90d0>\n",
      " args: ('default a',)\n",
      " keywords: {'b': 99}\n",
      " called myfunc with: ('default a', 99)\n",
      " called myfunc with: ('default a', 'override b')\n",
      "\n",
      "Insufficient arguments:\n"
     ]
    },
    {
     "ename": "TypeError",
     "evalue": "myfunc() missing 1 required positional argument: 'a'",
     "output_type": "error",
     "traceback": [
      "\u001b[0;31m---------------------------------------------------------------------------\u001b[0m",
      "\u001b[0;31mTypeError\u001b[0m                                 Traceback (most recent call last)",
      "\u001b[0;32m<ipython-input-11-3de7e581098f>\u001b[0m in \u001b[0;36m<module>\u001b[0;34m\u001b[0m\n\u001b[1;32m     33\u001b[0m \u001b[0mprint\u001b[0m\u001b[0;34m(\u001b[0m\u001b[0;34m)\u001b[0m\u001b[0;34m\u001b[0m\u001b[0;34m\u001b[0m\u001b[0m\n\u001b[1;32m     34\u001b[0m \u001b[0mprint\u001b[0m\u001b[0;34m(\u001b[0m\u001b[0;34m'Insufficient arguments:'\u001b[0m\u001b[0;34m)\u001b[0m\u001b[0;34m\u001b[0m\u001b[0;34m\u001b[0m\u001b[0m\n\u001b[0;32m---> 35\u001b[0;31m \u001b[0mp1\u001b[0m\u001b[0;34m(\u001b[0m\u001b[0;34m)\u001b[0m\u001b[0;34m\u001b[0m\u001b[0;34m\u001b[0m\u001b[0m\n\u001b[0m",
      "\u001b[0;31mTypeError\u001b[0m: myfunc() missing 1 required positional argument: 'a'"
     ]
    }
   ],
   "source": [
    "import functools\n",
    "def myfunc(a, b=2):\n",
    "    \"Docstring for myfunc().\"\n",
    "    print(' called myfunc with:', (a, b))\n",
    "\n",
    "def show_details(name, f, is_partial=False):\n",
    "    \"Show details of a callable object.\"\n",
    "    print('{}:'.format(name))\n",
    "    print(' object:', f)\n",
    "    if not is_partial:\n",
    "        print(' __name__:', f.__name__)\n",
    "    if is_partial:\n",
    "        print(' func:', f.func)\n",
    "        print(' args:', f.args)\n",
    "        print(' keywords:', f.keywords)\n",
    "    return\n",
    "show_details('myfunc', myfunc)\n",
    "myfunc('a', 3)\n",
    "print()\n",
    "\n",
    "# Set a different default value for 'b', but require\n",
    "# the caller to provide 'a'.\n",
    "p1 = functools.partial(myfunc, b=4)\n",
    "show_details('partial with named default', p1, True)\n",
    "p1('passing a')\n",
    "p1('override b', b=5)\n",
    "print()\n",
    "# Set default values for both 'a' and 'b'.\n",
    "p2 = functools.partial(myfunc, 'default a', b=99)\n",
    "show_details('partial with defaults', p2, True)\n",
    "p2()\n",
    "p2(b='override b')\n",
    "print()\n",
    "print('Insufficient arguments:')\n",
    "p1()"
   ]
  },
  {
   "cell_type": "code",
   "execution_count": 13,
   "metadata": {},
   "outputs": [],
   "source": [
    "?myfunc"
   ]
  },
  {
   "cell_type": "code",
   "execution_count": 14,
   "metadata": {},
   "outputs": [],
   "source": [
    "??myfunc"
   ]
  },
  {
   "cell_type": "markdown",
   "metadata": {},
   "source": [
    "## Itertools"
   ]
  },
  {
   "cell_type": "markdown",
   "metadata": {},
   "source": [
    "Different kinds of iterations:"
   ]
  },
  {
   "cell_type": "code",
   "execution_count": 17,
   "metadata": {},
   "outputs": [
    {
     "name": "stdout",
     "output_type": "stream",
     "text": [
      "1 2 3 a b c "
     ]
    }
   ],
   "source": [
    "## container\n",
    "from itertools import *\n",
    "for i in chain([1, 2, 3], ['a', 'b', 'c']):\n",
    "    print(i, end=' ')"
   ]
  },
  {
   "cell_type": "code",
   "execution_count": 18,
   "metadata": {},
   "outputs": [
    {
     "name": "stdout",
     "output_type": "stream",
     "text": [
      "1 2 3 a b c "
     ]
    }
   ],
   "source": [
    "## iterables\n",
    "from itertools import *\n",
    "def make_iterables_to_chain():\n",
    "    yield [1, 2, 3]\n",
    "    yield ['a', 'b', 'c']\n",
    "for i in chain.from_iterable(make_iterables_to_chain()):\n",
    "    print(i, end=' ')"
   ]
  },
  {
   "cell_type": "code",
   "execution_count": 19,
   "metadata": {},
   "outputs": [
    {
     "name": "stdout",
     "output_type": "stream",
     "text": [
      "(1, 'a')\n",
      "(2, 'b')\n",
      "(3, 'c')\n"
     ]
    }
   ],
   "source": [
    "## zip\n",
    "for i in zip([1, 2, 3], ['a', 'b', 'c']):\n",
    "    print(i)"
   ]
  },
  {
   "cell_type": "code",
   "execution_count": 20,
   "metadata": {},
   "outputs": [
    {
     "name": "stdout",
     "output_type": "stream",
     "text": [
      "(1, 'a', 5)\n",
      "(2, 'b', 5)\n",
      "(3, 'c', 6)\n"
     ]
    }
   ],
   "source": [
    "## zip\n",
    "for i in zip([1, 2, 3], ['a', 'b', 'c'], [5,5,6]):\n",
    "    print(i)"
   ]
  },
  {
   "cell_type": "code",
   "execution_count": 21,
   "metadata": {},
   "outputs": [
    {
     "name": "stdout",
     "output_type": "stream",
     "text": [
      "zip stops early:\n",
      "[(0, 0), (1, 1)]\n",
      "\n",
      "zip_longest processes all of the values:\n"
     ]
    }
   ],
   "source": [
    "## longest\n",
    "r1 = range(3)\n",
    "r2 = range(2)\n",
    "print('zip stops early:')\n",
    "print(list(zip(r1, r2)))\n",
    "r1 = range(3)\n",
    "r2 = range(2)\n",
    "print('\\nzip_longest processes all of the values:')"
   ]
  },
  {
   "cell_type": "markdown",
   "metadata": {},
   "source": [
    "# OS related"
   ]
  },
  {
   "cell_type": "markdown",
   "metadata": {},
   "source": [
    "Introduction: data/ read and writing. Efficent computation."
   ]
  },
  {
   "cell_type": "markdown",
   "metadata": {},
   "source": [
    "## Threading v.s. Process:"
   ]
  },
  {
   "cell_type": "markdown",
   "metadata": {},
   "source": [
    "Read: https://stackoverflow.com/questions/200469/what-is-the-difference-between-a-process-and-a-thread"
   ]
  },
  {
   "cell_type": "markdown",
   "metadata": {},
   "source": [
    "Using top to illustarte."
   ]
  },
  {
   "cell_type": "markdown",
   "metadata": {},
   "source": [
    "Visualization:"
   ]
  },
  {
   "cell_type": "markdown",
   "metadata": {},
   "source": [
    "http://insidejvmjava.blogspot.com/2018/12/process-vs-threads.html"
   ]
  },
  {
   "cell_type": "markdown",
   "metadata": {},
   "source": [
    "Operating system:"
   ]
  },
  {
   "cell_type": "markdown",
   "metadata": {},
   "source": [
    "https://www.tutorialspoint.com/operating_system/os_overview.htm"
   ]
  },
  {
   "cell_type": "markdown",
   "metadata": {},
   "source": [
    "Concurrency:"
   ]
  },
  {
   "cell_type": "markdown",
   "metadata": {},
   "source": [
    "https://techdifferences.com/difference-between-concurrency-and-parallelism.html"
   ]
  },
  {
   "cell_type": "markdown",
   "metadata": {},
   "source": [
    "Hardware:"
   ]
  },
  {
   "cell_type": "markdown",
   "metadata": {},
   "source": [
    "https://www.oreilly.com/library/view/designing-embedded-hardware/0596007558/ch01.html"
   ]
  },
  {
   "cell_type": "markdown",
   "metadata": {},
   "source": [
    "Read basic system processor."
   ]
  },
  {
   "cell_type": "markdown",
   "metadata": {},
   "source": [
    "## Execution of threads"
   ]
  },
  {
   "cell_type": "markdown",
   "metadata": {},
   "source": [
    "Check again dequeue example, but with sleep removed. "
   ]
  },
  {
   "cell_type": "markdown",
   "metadata": {},
   "source": [
    "Check three thread scripts"
   ]
  },
  {
   "cell_type": "markdown",
   "metadata": {},
   "source": [
    "## Python GIL"
   ]
  },
  {
   "cell_type": "markdown",
   "metadata": {},
   "source": [
    "This is a mechanism to make python thread-safe."
   ]
  },
  {
   "cell_type": "markdown",
   "metadata": {},
   "source": [
    "Read:\n",
    "https://en.wikipedia.org/wiki/Global_interpreter_lock"
   ]
  },
  {
   "cell_type": "markdown",
   "metadata": {},
   "source": [
    "So essentially python is not a good language for multithreading. However, since python is a good script language, we can use python to call other langues."
   ]
  },
  {
   "cell_type": "code",
   "execution_count": 6,
   "metadata": {},
   "outputs": [],
   "source": [
    "## numpy multithreaidng example\n",
    "import numpy as np\n",
    "A = np.eye(10000)"
   ]
  },
  {
   "cell_type": "code",
   "execution_count": 7,
   "metadata": {},
   "outputs": [
    {
     "name": "stdout",
     "output_type": "stream",
     "text": [
      "CPU times: user 54.1 s, sys: 1 s, total: 55.1 s\n",
      "Wall time: 13.9 s\n"
     ]
    }
   ],
   "source": [
    "%%time\n",
    "X = np.linalg.inv(A)"
   ]
  },
  {
   "cell_type": "markdown",
   "metadata": {},
   "source": [
    "## Pool"
   ]
  },
  {
   "cell_type": "markdown",
   "metadata": {},
   "source": [
    "An easy to use multiprocessing model."
   ]
  },
  {
   "cell_type": "code",
   "execution_count": 241,
   "metadata": {},
   "outputs": [],
   "source": [
    "from multiprocessing import Pool"
   ]
  },
  {
   "cell_type": "code",
   "execution_count": 214,
   "metadata": {},
   "outputs": [],
   "source": [
    "def squared(x):\n",
    "    return x**2"
   ]
  },
  {
   "cell_type": "code",
   "execution_count": 270,
   "metadata": {},
   "outputs": [],
   "source": [
    "array1 = list(range(50000000))"
   ]
  },
  {
   "cell_type": "code",
   "execution_count": 271,
   "metadata": {},
   "outputs": [
    {
     "name": "stdout",
     "output_type": "stream",
     "text": [
      "CPU times: user 11.3 s, sys: 360 ms, total: 11.7 s\n",
      "Wall time: 11.7 s\n"
     ]
    }
   ],
   "source": [
    "%%time\n",
    "res = [squared(x) for x in array1]"
   ]
  },
  {
   "cell_type": "code",
   "execution_count": 273,
   "metadata": {},
   "outputs": [
    {
     "name": "stdout",
     "output_type": "stream",
     "text": [
      "CPU times: user 4.13 s, sys: 1.94 s, total: 6.06 s\n",
      "Wall time: 11 s\n"
     ]
    }
   ],
   "source": [
    "%%time\n",
    "pool  = Pool(2)\n",
    "res = pool.map(squared, array1)\n",
    "pool.close()\n",
    "pool.join()"
   ]
  },
  {
   "cell_type": "markdown",
   "metadata": {},
   "source": [
    "## Interprocess Communication"
   ]
  },
  {
   "cell_type": "markdown",
   "metadata": {},
   "source": [
    "Read:"
   ]
  },
  {
   "cell_type": "markdown",
   "metadata": {},
   "source": [
    "https://en.wikipedia.org/wiki/Inter-process_communication"
   ]
  },
  {
   "cell_type": "markdown",
   "metadata": {},
   "source": [
    "Shared memory:"
   ]
  },
  {
   "cell_type": "markdown",
   "metadata": {},
   "source": [
    "https://www.tutorialspoint.com/inter_process_communication/inter_process_communication_shared_memory.htm"
   ]
  },
  {
   "cell_type": "markdown",
   "metadata": {},
   "source": [
    "Use case: \n",
    "* Service client model\n",
    "* examples: shared memory/ socket/ remote procedure call."
   ]
  },
  {
   "cell_type": "markdown",
   "metadata": {},
   "source": [
    "Why do we need it? "
   ]
  },
  {
   "cell_type": "markdown",
   "metadata": {},
   "source": [
    "* Service/ client model. Service oriented architecture. "
   ]
  },
  {
   "cell_type": "markdown",
   "metadata": {},
   "source": [
    "Check:\n",
    "\n",
    "https://docs.python.org/3/library/multiprocessing.shared_memory.html"
   ]
  },
  {
   "cell_type": "markdown",
   "metadata": {},
   "source": [
    "Must run in python 3.8"
   ]
  },
  {
   "cell_type": "markdown",
   "metadata": {},
   "source": [
    "# Serialization"
   ]
  },
  {
   "cell_type": "markdown",
   "metadata": {},
   "source": [
    "What is it?\n",
    "\n",
    "Serialization is the process of turning an object in memory into a stream of bytes so you can do stuff like store it on disk or send it over the network.\n",
    "\n",
    "Deserialization is the reverse process: turning a stream of bytes into an object in memory."
   ]
  },
  {
   "cell_type": "markdown",
   "metadata": {},
   "source": [
    "Why do we need it?"
   ]
  },
  {
   "cell_type": "code",
   "execution_count": 9,
   "metadata": {},
   "outputs": [
    {
     "name": "stdout",
     "output_type": "stream",
     "text": [
      "BEFORE:  [{'a': 'A', 'b': 2, 'c': 3.0}]\n",
      "AFTER :  [{'a': 'A', 'b': 2, 'c': 3.0}]\n",
      "SAME? : False\n",
      "EQUAL?: True\n"
     ]
    }
   ],
   "source": [
    "import pickle\n",
    "import pprint\n",
    "\n",
    "data1 = [{'a': 'A', 'b': 2, 'c': 3.0}]\n",
    "print('BEFORE: ', end=' ')\n",
    "\n",
    "pprint.pprint(data1)\n",
    "data1_string = pickle.dumps(data1)\n",
    "data2 = pickle.loads(data1_string)\n",
    "\n",
    "print('AFTER : ', end=' ')\n",
    "pprint.pprint(data2)\n",
    "print('SAME? :', (data1 is data2))\n",
    "print('EQUAL?:', (data1 == data2))"
   ]
  },
  {
   "cell_type": "code",
   "execution_count": 10,
   "metadata": {},
   "outputs": [
    {
     "data": {
      "text/plain": [
       "b'\\x80\\x03]q\\x00}q\\x01(X\\x01\\x00\\x00\\x00aq\\x02X\\x01\\x00\\x00\\x00Aq\\x03X\\x01\\x00\\x00\\x00bq\\x04K\\x02X\\x01\\x00\\x00\\x00cq\\x05G@\\x08\\x00\\x00\\x00\\x00\\x00\\x00ua.'"
      ]
     },
     "execution_count": 10,
     "metadata": {},
     "output_type": "execute_result"
    }
   ],
   "source": [
    "data1_string"
   ]
  }
 ],
 "metadata": {
  "kernelspec": {
   "display_name": "Python 3",
   "language": "python",
   "name": "python3"
  },
  "language_info": {
   "codemirror_mode": {
    "name": "ipython",
    "version": 3
   },
   "file_extension": ".py",
   "mimetype": "text/x-python",
   "name": "python",
   "nbconvert_exporter": "python",
   "pygments_lexer": "ipython3",
   "version": "3.7.3"
  }
 },
 "nbformat": 4,
 "nbformat_minor": 2
}
