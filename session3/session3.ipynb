{
 "cells": [
  {
   "cell_type": "markdown",
   "metadata": {},
   "source": [
    "# numpy"
   ]
  },
  {
   "cell_type": "markdown",
   "metadata": {},
   "source": [
    "## import a module"
   ]
  },
  {
   "cell_type": "code",
   "execution_count": null,
   "metadata": {},
   "outputs": [],
   "source": [
    "import numpy as np"
   ]
  },
  {
   "cell_type": "code",
   "execution_count": null,
   "metadata": {},
   "outputs": [],
   "source": [
    "from numpy import linalg as la"
   ]
  },
  {
   "cell_type": "code",
   "execution_count": null,
   "metadata": {},
   "outputs": [],
   "source": [
    "np2 = __import__('numpy')"
   ]
  },
  {
   "cell_type": "code",
   "execution_count": null,
   "metadata": {},
   "outputs": [],
   "source": [
    "la.__file__"
   ]
  },
  {
   "cell_type": "code",
   "execution_count": null,
   "metadata": {},
   "outputs": [],
   "source": [
    "import sys\n",
    "print(sys.path)\n",
    "print(os.environ['PYTHONPATH'])"
   ]
  },
  {
   "cell_type": "markdown",
   "metadata": {},
   "source": [
    "---"
   ]
  },
  {
   "cell_type": "markdown",
   "metadata": {},
   "source": [
    "## ufunc\n",
    "element-wise operations"
   ]
  },
  {
   "cell_type": "code",
   "execution_count": null,
   "metadata": {},
   "outputs": [],
   "source": [
    "a = np.zeros((3, 3))\n",
    "\n",
    "b = a + 1\n",
    "print(b)"
   ]
  },
  {
   "cell_type": "code",
   "execution_count": null,
   "metadata": {},
   "outputs": [],
   "source": [
    "a = np.random.rand(3, 3)\n",
    "print(a < 0.5)"
   ]
  },
  {
   "cell_type": "code",
   "execution_count": null,
   "metadata": {},
   "outputs": [],
   "source": [
    "a = np.random.rand(3, 3)\n",
    "print((a < 0.2) | (a > 0.8))"
   ]
  },
  {
   "cell_type": "markdown",
   "metadata": {},
   "source": [
    "### ufunc for high dimension arrays"
   ]
  },
  {
   "cell_type": "code",
   "execution_count": null,
   "metadata": {},
   "outputs": [],
   "source": [
    "a = np.arange(3)\n",
    "b = np.arange(2)\n",
    "ab = np.empty((3, 2))\n",
    "for i in range(3):\n",
    "    for j in range(2):\n",
    "        ab[i, j] = a[i] * b[j]\n",
    "        \n",
    "ab = a[:, np.newaxis] * b\n",
    "print(a[:, np.newaxis].shape)\n",
    "print(ab.shape)\n",
    "print((a[:, np.newaxis, np.newaxis] * b).shape)"
   ]
  },
  {
   "cell_type": "code",
   "execution_count": null,
   "metadata": {},
   "outputs": [],
   "source": [
    "# between arrays with different dimensions\n",
    "# np unfun automatically patches enough \"np.newaxis\" at the leading axes\n",
    "ab + b"
   ]
  },
  {
   "cell_type": "code",
   "execution_count": null,
   "metadata": {},
   "outputs": [],
   "source": [
    "# dimensions of tailing axes must match\n",
    "ab + a"
   ]
  },
  {
   "cell_type": "code",
   "execution_count": null,
   "metadata": {},
   "outputs": [],
   "source": [
    "# dimensions of tailing axes must match\n",
    "ab + a[np.newaxis, :]"
   ]
  },
  {
   "cell_type": "code",
   "execution_count": null,
   "metadata": {},
   "outputs": [],
   "source": [
    "# np.newaxis in the middle\n",
    "c = np.zeros((3, 4, 2))\n",
    "c + ab[:, np.newaxis, :]\n",
    "print(ab[:, np.newaxis, :].shape)"
   ]
  },
  {
   "cell_type": "code",
   "execution_count": null,
   "metadata": {},
   "outputs": [],
   "source": [
    "# ufunc with list, tuple or iterables. Objects are converted to np objects first.\n",
    "a = np.arange(3)\n",
    "a + [1, 2, 1]\n",
    "a + (1, 2, 1)\n",
    "a + range(3, 6)"
   ]
  },
  {
   "cell_type": "markdown",
   "metadata": {},
   "source": [
    "### einsum"
   ]
  },
  {
   "cell_type": "code",
   "execution_count": null,
   "metadata": {},
   "outputs": [],
   "source": [
    "ab = a[:, np.newaxis] * b\n",
    "ab = np.einsum('x,y->xy', a, b)"
   ]
  },
  {
   "cell_type": "code",
   "execution_count": null,
   "metadata": {},
   "outputs": [],
   "source": [
    "c = np.random.rand(3, 4, 2)  # trace the index in the middle and swap the first and last axes\n",
    "c1 = np.zeros((2, 3))\n",
    "for i in range(3):\n",
    "    for j in range(4):\n",
    "        for k in range(2):\n",
    "            c1[k, i] = c1[k, i] + c[i, j, k]\n",
    "\n",
    "c1 = np.einsum('xyz->zx', c)"
   ]
  },
  {
   "cell_type": "markdown",
   "metadata": {},
   "source": [
    "---"
   ]
  },
  {
   "cell_type": "markdown",
   "metadata": {},
   "source": [
    "## Fancy index"
   ]
  },
  {
   "cell_type": "code",
   "execution_count": null,
   "metadata": {},
   "outputs": [],
   "source": [
    "# list/nparray works as a sequence of subscripts to index an array\n",
    "a = np.arange(0, 70, 10)\n",
    "idx = [1, 3, 5]\n",
    "print(a[idx])"
   ]
  },
  {
   "cell_type": "code",
   "execution_count": null,
   "metadata": {},
   "outputs": [],
   "source": [
    "# tuple works like (element-wise) index subscripts\n",
    "a = np.arange(0, 70, 10)\n",
    "idx = (1, 3, 5)\n",
    "print(a[idx])"
   ]
  },
  {
   "cell_type": "code",
   "execution_count": null,
   "metadata": {},
   "outputs": [],
   "source": [
    "a = np.zeros((7, 7, 7))\n",
    "print(a[idx])  # == a[1, 3, 5]"
   ]
  },
  {
   "cell_type": "markdown",
   "metadata": {},
   "source": [
    "### Common scenarios that fancy indices are used"
   ]
  },
  {
   "cell_type": "code",
   "execution_count": null,
   "metadata": {},
   "outputs": [],
   "source": [
    "# reorder elements of an array\n",
    "a = np.arange(5)\n",
    "a[[4, 3, 2, 1, 0]]"
   ]
  },
  {
   "cell_type": "code",
   "execution_count": null,
   "metadata": {},
   "outputs": [],
   "source": [
    "# get sub-block of an array\n",
    "a = np.arange(125).reshape(5, 5, 5)\n",
    "a[2:4, 1:4, 1:3]"
   ]
  },
  {
   "cell_type": "code",
   "execution_count": null,
   "metadata": {},
   "outputs": [],
   "source": [
    "# Take elements along axes\n",
    "idx1 = np.array([1, 3, 2])\n",
    "idx2 = np.array([0, 2])\n",
    "idx3 = np.array([1, 3, 4])\n",
    "result = np.empty([3, 2, 3])\n",
    "for i, m in enumerate(idx1):\n",
    "    for j, n in enumerate(idx2):\n",
    "        for k, o in enumerate(idx3):\n",
    "            result[i, j, k] = a[m, n, o]\n",
    "            \n",
    "print(a[idx1, idx2, idx3])  # Not working as we thought?\n",
    "print(a[idx1][:, idx2][:, :, idx3])\n",
    "\n",
    "# To construct high-dimension sub-block of an array\n",
    "print(a[idx[:, np.newaxis, np.newaxis], idx[:, np.newaxis], idx])"
   ]
  },
  {
   "cell_type": "code",
   "execution_count": null,
   "metadata": {},
   "outputs": [],
   "source": [
    "# Index an array with multiple 1D indices\n",
    "a = np.arange(216).reshape(6, 6, 6)\n",
    "print(a[([1, 3, 5], [4, 0, 0])])\n",
    "\n",
    "print(np.array([a[1, 4],\n",
    "                a[3, 0],\n",
    "                a[5, 0]]))"
   ]
  },
  {
   "cell_type": "code",
   "execution_count": null,
   "metadata": {},
   "outputs": [],
   "source": [
    "# Size of the 1D indices must match\n",
    "print(a[([1, 3, 4], [2, 0])])"
   ]
  },
  {
   "cell_type": "code",
   "execution_count": null,
   "metadata": {},
   "outputs": [],
   "source": [
    "# Almost works like the code below\n",
    "result = []\n",
    "for i, j in zip([1, 3, 5], [4, 0, 0]):\n",
    "    result.append(a[i, j])\n",
    "print(np.array(result))"
   ]
  },
  {
   "cell_type": "code",
   "execution_count": null,
   "metadata": {},
   "outputs": [],
   "source": [
    "# Avoid to apply multiple indices on non-adjacent axes\n",
    "a = np.zeros((6, 6, 6, 6))\n",
    "print(a[:, :, [1, 3, 5], [4, 0, 0]].shape)\n",
    "print(a[:, [1, 3, 5], :, [4, 0, 0]].shape)\n",
    "print(a[:, [1, 3, 5], [4, 0, 0], :].shape)"
   ]
  },
  {
   "cell_type": "markdown",
   "metadata": {},
   "source": [
    "Rule of thumb: If two or more indices are specified to reduce the dimension of a high-dimension array,\n",
    "first transpose the array and make the target axes adjacent then apply the indices to the adjcent axes."
   ]
  },
  {
   "cell_type": "code",
   "execution_count": null,
   "metadata": {},
   "outputs": [],
   "source": [
    "# when list/nparray and tuple are both specified, tuple is treated as a list in most cases\n",
    "a = np.arange(216).reshape(6, 6, 6)\n",
    "print(a[(1, 3), (2, 0)])\n",
    "print(a[[1, 3], [2, 0]])"
   ]
  },
  {
   "cell_type": "code",
   "execution_count": null,
   "metadata": {},
   "outputs": [],
   "source": [
    "# Very misleading if tuple and list are mixed in the array subscripts.\n",
    "a = np.arange(216).reshape(6, 6, 6)\n",
    "print(a[(1, 3), 2])\n",
    "print(a[[1, 3], 2])\n",
    "print(a[[1, 3], [2, 2]])\n",
    "print(a[[(1, 3), (2, 2)]])"
   ]
  },
  {
   "cell_type": "markdown",
   "metadata": {},
   "source": [
    "Rule of thumb: Except Tuple[List] which works as exaplained above, we should avoid to mix tuple and lists when indexing an array.\n"
   ]
  },
  {
   "cell_type": "code",
   "execution_count": null,
   "metadata": {},
   "outputs": [],
   "source": [
    "# What if indices and the base array have different shapes\n",
    "a = np.arange(0, 70, 10)\n",
    "idx = np.array([[1, 3, 5]])\n",
    "print(a[idx])\n",
    "\n",
    "idx = np.array([[1],\n",
    "                [3],\n",
    "                [5]])\n",
    "print(a[idx])\n",
    "\n",
    "idx = np.array([[1, 2, 3],\n",
    "                [3, 4, 5],\n",
    "                [5, 6, 0]])\n",
    "print(a[idx])\n",
    "\n",
    "idx = np.array([1, 3, 5])\n",
    "print(a[idx[:, np.newaxis, np.newaxis]].shape)"
   ]
  },
  {
   "cell_type": "markdown",
   "metadata": {},
   "source": [
    "Rule of thumb: The shape of the return array with fancy index is not determined by the shape of the base (original) array. The shape of the return array is determined by the shape of the index list/array"
   ]
  },
  {
   "cell_type": "markdown",
   "metadata": {},
   "source": [
    "### Mask array"
   ]
  },
  {
   "cell_type": "code",
   "execution_count": null,
   "metadata": {},
   "outputs": [],
   "source": [
    "a = np.arange(0, 70, 10)\n",
    "mask = np.array([True, False, True, False, False, False, True])\n",
    "a[mask]"
   ]
  },
  {
   "cell_type": "code",
   "execution_count": null,
   "metadata": {},
   "outputs": [],
   "source": [
    "# The return (masked) array is a one-dimension array, regardless of the shape of the original array.\n",
    "a = np.random.rand(3, 3, 3)\n",
    "mask = (a < 0.2) | (a > 0.8)\n",
    "print(mask)\n",
    "print(a[mask])\n",
    "\n",
    "# The dimension of mask must be less than the dimension of the array.\n",
    "mask = np.random.rand(3, 3) < 0.5\n",
    "print(a[mask].shape)"
   ]
  },
  {
   "cell_type": "code",
   "execution_count": null,
   "metadata": {},
   "outputs": [],
   "source": [
    "# conversion between indices and mask array\n",
    "mask = np.random.rand(3, 4) < 0.5\n",
    "idx0, idx1 = np.where(mask)\n",
    "\n",
    "a = np.zeros((4, 4, 4))\n",
    "mask = np.zeros(a.shape, dtype=bool)\n",
    "mask[idx0, idx1] = True"
   ]
  },
  {
   "cell_type": "code",
   "execution_count": null,
   "metadata": {},
   "outputs": [],
   "source": [
    "# Mask array to filter nan\n",
    "np.isnan(a)\n",
    "np.isfinite(a)"
   ]
  },
  {
   "cell_type": "markdown",
   "metadata": {},
   "source": [
    "### assignment with fancy indices"
   ]
  },
  {
   "cell_type": "code",
   "execution_count": null,
   "metadata": {},
   "outputs": [],
   "source": [
    "a = np.zeros((3, 3))\n",
    "a[1:3, 2] = 1\n",
    "print(a)"
   ]
  },
  {
   "cell_type": "code",
   "execution_count": null,
   "metadata": {},
   "outputs": [],
   "source": [
    "a = np.zeros((3, 3))\n",
    "a[[1, 2], 2] = 1\n",
    "print(a)"
   ]
  },
  {
   "cell_type": "code",
   "execution_count": null,
   "metadata": {},
   "outputs": [],
   "source": [
    "a = np.zeros((3, 3))\n",
    "a[[0, 2], 2] = 1\n",
    "print(a)"
   ]
  },
  {
   "cell_type": "code",
   "execution_count": null,
   "metadata": {},
   "outputs": [],
   "source": [
    "a = np.zeros((3, 3))\n",
    "a[[0, 2], [0, 2]] = 1\n",
    "print(a)"
   ]
  },
  {
   "cell_type": "code",
   "execution_count": null,
   "metadata": {},
   "outputs": [],
   "source": [
    "# assignment for a subblock\n",
    "a = np.zeros((3, 3))\n",
    "idx = np.array([0, 2])\n",
    "a[idx][:, idx] = 1\n",
    "print(a)\n",
    "a[idx[:, np.newaxis], idx] = 1\n",
    "print(a)"
   ]
  },
  {
   "cell_type": "markdown",
   "metadata": {},
   "source": [
    "---"
   ]
  },
  {
   "cell_type": "markdown",
   "metadata": {},
   "source": [
    "## dtype"
   ]
  },
  {
   "cell_type": "code",
   "execution_count": null,
   "metadata": {},
   "outputs": [],
   "source": [
    "print(np.typeDict)\n",
    "print(np.typecodes)\n",
    "\n",
    "# One np object can have only one dtype\n",
    "a = np.array([2, 0, 9])\n",
    "print(a.dtype)\n",
    "a = np.array([2, 0, 2.5])\n",
    "print(a.dtype)\n",
    "a = np.array([2, 0, 'a'])\n",
    "print(a.dtype)\n",
    "a = np.array([2, 0, ['a']])\n",
    "print(a.dtype)\n",
    "\n",
    "# float64 and int64 by default for most array creation function\n",
    "a = np.zeros(3)\n",
    "print(a.dtype)\n",
    "a = np.arange(3)\n",
    "print(a.dtype)\n",
    "a = np.array([2, 3, 5.5])\n",
    "print(a.dtype)"
   ]
  },
  {
   "cell_type": "markdown",
   "metadata": {},
   "source": [
    "### The evil of nan"
   ]
  },
  {
   "cell_type": "code",
   "execution_count": null,
   "metadata": {},
   "outputs": [],
   "source": [
    "# comparison\n",
    "print(np.inf == np.inf)\n",
    "print(np.nan == np.nan)"
   ]
  },
  {
   "cell_type": "code",
   "execution_count": null,
   "metadata": {},
   "outputs": [],
   "source": [
    "# Use isnan to compare a number with nan\n",
    "a = np.random.rand(5)\n",
    "a[2] = np.nan\n",
    "np.isnan(a)"
   ]
  },
  {
   "cell_type": "code",
   "execution_count": null,
   "metadata": {},
   "outputs": [],
   "source": [
    "# When casting nan to integer, bool, str, datetime?\n",
    "nan = np.array(np.nan)\n",
    "print(nan.astype(int))\n",
    "print(nan.astype(np.bool))\n",
    "print(nan.astype(np.datetime64))\n",
    "print(nan.astype(np.dtype('U4')))  # a datatype of 4-byte string\n",
    "print(nan.astype(np.object))"
   ]
  },
  {
   "cell_type": "code",
   "execution_count": null,
   "metadata": {},
   "outputs": [],
   "source": [
    "# What if assign nan to a variable of integer / bool / str / datetime type?\n",
    "a = np.zeros(1, dtype=int)\n",
    "a[0] = np.nan\n",
    "a = np.zeros(1, dtype=bool)\n",
    "a[0] = np.nan\n",
    "a = np.zeros(1, dtype='U4')\n",
    "a[0] = np.nan"
   ]
  },
  {
   "cell_type": "markdown",
   "metadata": {},
   "source": [
    "np functions to manipulate arrays with nans\n",
    "* np.min -> np.nanmin\n",
    "* np.max -> np.nanmax\n",
    "* np.sum -> np.nansum\n",
    "* np.mean -> np.nanmean\n",
    "* np.std -> np.nanstd"
   ]
  },
  {
   "cell_type": "code",
   "execution_count": null,
   "metadata": {},
   "outputs": [],
   "source": [
    "# Powerful np.dtype, works like pandas dataframe\n",
    "np.dtype([('name', 'U16'), ('grades', np.int)])"
   ]
  },
  {
   "cell_type": "markdown",
   "metadata": {},
   "source": [
    "---"
   ]
  },
  {
   "cell_type": "markdown",
   "metadata": {},
   "source": [
    "## nparray data structure"
   ]
  },
  {
   "cell_type": "markdown",
   "metadata": {},
   "source": [
    "Attributes of an array that presents the array data structure\n",
    "* dimensions\n",
    "* shape\n",
    "* itemsize\n",
    "* strides\n",
    "* data buffer\n",
    "* offset wrt the beginning of the data buffer"
   ]
  },
  {
   "cell_type": "code",
   "execution_count": null,
   "metadata": {},
   "outputs": [],
   "source": [
    "a = np.random.rand(3, 2, 4)\n",
    "print(a.data, a.base is None)\n",
    "print(a.itemsize)\n",
    "print(a.ndim)\n",
    "print(a.shape)\n",
    "print(a.strides)"
   ]
  },
  {
   "cell_type": "code",
   "execution_count": null,
   "metadata": {},
   "outputs": [],
   "source": [
    "# subarray\n",
    "b = a[1:, 0, 2]\n",
    "print(b.data, b.base is a)\n",
    "print(b.itemsize)\n",
    "print(b.ndim)\n",
    "print(b.shape)\n",
    "print(b.strides)\n",
    "\n",
    "b = a[[1, 2]]\n",
    "print(b.data, b.base is a)\n",
    "print(b.itemsize)\n",
    "print(b.ndim)\n",
    "print(b.shape)\n",
    "print(b.strides)"
   ]
  },
  {
   "cell_type": "code",
   "execution_count": null,
   "metadata": {},
   "outputs": [],
   "source": [
    "# Transpose does not change the data in memory\n",
    "b = a.transpose(2, 1, 0)\n",
    "print(b.data, b.base is a)\n",
    "print(b.strides)"
   ]
  },
  {
   "cell_type": "markdown",
   "metadata": {},
   "source": [
    "\"view\" vs copy\n",
    "* An array-view does not allocate new memory to hold data. It reuses the data buffer of original array with different array structure (strides, shape, ndim, etc).\n",
    "* A numpy function returns the view of an array if the return array can be represented by the data buffer of the base (original) array with proper values of array structure.\n",
    "* How to check\n",
    "* The attribute `.base` of array view is not None\n",
    "* The attribute `.flags.owndata` is False"
   ]
  },
  {
   "cell_type": "code",
   "execution_count": null,
   "metadata": {},
   "outputs": [],
   "source": [
    "# sliced array is view\n",
    "a = np.random.rand(3, 2, 4)\n",
    "b = a[:2, 1:, 3:]\n",
    "print(a.base is None)\n",
    "print(a.flags.owndata)\n",
    "print(b.base is not None, b.base is a)\n",
    "print(b.flags.owndata)\n",
    "\n",
    "# Functions swapaxes, transpose, diagonal returns an array view\n",
    "np.swapaxes(a, 0, -1).base\n",
    "np.rollaxis(a, 2, 0).base\n",
    "a.transpose(1, 2, 0).base\n",
    "a[0].diagonal().base\n",
    "a.T.base\n",
    "\n",
    "# ravel, reshape returns an array view if possible\n",
    "a.reshape(12, 2).base\n",
    "a.ravel().base\n",
    "a.transpose(1, 2, 0).reshape(12, 2).base\n",
    "a.transpose(1, 2, 0).ravel().base\n",
    "a.transpose(2, 1, 0).reshape(12, 2).base\n",
    "\n",
    "# Both fancy indices and array mask return copy of an array\n",
    "a[[1]].base\n",
    "a[np.array([False, False, True])]"
   ]
  },
  {
   "cell_type": "code",
   "execution_count": null,
   "metadata": {},
   "outputs": [],
   "source": [
    "# When editting an array\n",
    "a = np.zeros((3, 2, 4))\n",
    "b = a[:, 1, :]\n",
    "b[1] = 1\n",
    "print(a)"
   ]
  },
  {
   "cell_type": "code",
   "execution_count": null,
   "metadata": {},
   "outputs": [],
   "source": [
    "# Implicit array view: inplace operations\n",
    "a = np.zeros((3, 2, 4))\n",
    "a = a + 1\n",
    "a += 1"
   ]
  },
  {
   "cell_type": "code",
   "execution_count": null,
   "metadata": {},
   "outputs": [],
   "source": [
    "# One can select a sub-array to simplify the assignment statement\n",
    "a = np.zeros((5, 5, 5))\n",
    "a[1, 2, [0, 3, 4]] = 1\n",
    "print(a)\n",
    "\n",
    "sub_array_at_1_2 = a[1, 2]\n",
    "sub_array_at_1_2[[0, 3, 4]] = 2\n",
    "print(a)"
   ]
  },
  {
   "cell_type": "code",
   "execution_count": null,
   "metadata": {},
   "outputs": [],
   "source": [
    "# performance differences\n",
    "%timeit a = a + 1\n",
    "%timeit a += 1"
   ]
  },
  {
   "cell_type": "markdown",
   "metadata": {},
   "source": [
    "Rule of thumb: When a function returns an array that might be a view of input array, call .copy(). Whenever you unsure, call .copy()."
   ]
  },
  {
   "cell_type": "code",
   "execution_count": null,
   "metadata": {},
   "outputs": [],
   "source": [
    "# Question: what would happen if we apply inplace operations to the view of the array itself\n",
    "a = np.random.rand(5, 5, 5)\n",
    "b = a.transpose(2, 0, 1)\n",
    "b += a\n",
    "\n",
    "# This is a long-live bug (https://github.com/numpy/numpy/issues/1683) until recent numpy release (1.12)"
   ]
  },
  {
   "cell_type": "markdown",
   "metadata": {},
   "source": [
    "---"
   ]
  },
  {
   "cell_type": "markdown",
   "metadata": {},
   "source": [
    "## np array vs list\n",
    "### subarray"
   ]
  },
  {
   "cell_type": "code",
   "execution_count": null,
   "metadata": {},
   "outputs": [],
   "source": [
    "l = list(range(7))\n",
    "a = np.arange(7)\n",
    "print(l[::3])\n",
    "print(a[::3])"
   ]
  },
  {
   "cell_type": "markdown",
   "metadata": {},
   "source": [
    "### ufunc"
   ]
  },
  {
   "cell_type": "code",
   "execution_count": null,
   "metadata": {},
   "outputs": [],
   "source": [
    "l = [1, 2, 3]\n",
    "a = np.array([1, 2, 3])\n",
    "print(l == l)\n",
    "print(a == l)\n",
    "print(np.all(a == l))\n",
    "print(np.array_equal(a, l))"
   ]
  },
  {
   "cell_type": "markdown",
   "metadata": {},
   "source": [
    "### append, sort, index"
   ]
  },
  {
   "cell_type": "code",
   "execution_count": null,
   "metadata": {},
   "outputs": [],
   "source": [
    "lst.append(x)\n",
    "arr = np.append(arr, x)\n",
    "arr = np.hstack([arr, x])\n",
    "\n",
    "lst.sort()  # sort inplace\n",
    "arr.sort()  # sort inplace\n",
    "\n",
    "sorted(lst)  # no side-effects\n",
    "np.sort(arr)  # no side-effects\n",
    "\n",
    "lst.index(x)\n",
    "np.where(arr == x)[0][0]"
   ]
  },
  {
   "cell_type": "markdown",
   "metadata": {},
   "source": [
    "### memory view and implicit memory cost"
   ]
  },
  {
   "cell_type": "code",
   "execution_count": null,
   "metadata": {},
   "outputs": [],
   "source": [
    "a = [0, 1, 2, 3, 4, 5]\n",
    "b = a[2:4]\n",
    "b[0] = 10\n",
    "print(a)\n",
    "a = None\n",
    "\n",
    "a = np.array([0, 1, 2, 3, 4, 5])\n",
    "b = a[2:4]\n",
    "b[0] = 10\n",
    "print(a)\n",
    "a = None"
   ]
  },
  {
   "cell_type": "markdown",
   "metadata": {},
   "source": [
    "---"
   ]
  },
  {
   "cell_type": "markdown",
   "metadata": {},
   "source": [
    "## Vector-oriented programming"
   ]
  },
  {
   "cell_type": "code",
   "execution_count": null,
   "metadata": {},
   "outputs": [],
   "source": [
    "# Given a set of points, find the largest 3 distances between points if either point is inside the circle with raidus r0\n",
    "def py_max_distances(coordinates, r0):\n",
    "    max_dists = [0, 0, 0]\n",
    "    for i, r1 in enumerate(coordinates):\n",
    "        for j, r2 in enumerate(coordinates):\n",
    "            if i > j and ((np.linalg.norm(r1) < r0) ^ (np.linalg.norm(r2) < r0)):\n",
    "                dist = np.linalg.norm(r1 - r2)\n",
    "                if dist > max_dists[0]:\n",
    "                    max_dists = sorted(max_dists[1:] + [dist])\n",
    "    return max_dists\n",
    "\n",
    "def np_max_distances(coordinates, r0):\n",
    "    pair_dists = np.linalg.norm(coordinates[:, np.newaxis, :] - coordinates, axis=2)\n",
    "    points_in_r0 = np.linalg.norm(coordinates, axis=1) < r0\n",
    "    mask_r0 = points_in_r0[:, np.newaxis] ^ points_in_r0\n",
    "    mask_uniq_dists = np.tril(np.ones_like(mask_r0), k=-1)\n",
    "    uniq_dists = pair_dists[mask_r0 & mask_uniq_dists]\n",
    "    return np.partition(uniq_dists, -3)[-3:]"
   ]
  },
  {
   "cell_type": "code",
   "execution_count": null,
   "metadata": {},
   "outputs": [],
   "source": [
    "coordinates = np.random.rand(10, 2)\n",
    "print(py_max_distances(coordinates, 0.8))\n",
    "print(np_max_distances(coordinates, 0.8))"
   ]
  },
  {
   "cell_type": "code",
   "execution_count": null,
   "metadata": {},
   "outputs": [],
   "source": [
    "coordinates = np.random.rand(500, 2)\n",
    "%time py_max_distances(coordinates, 0.8)\n",
    "%time np_max_distances(coordinates, 0.8)"
   ]
  },
  {
   "cell_type": "markdown",
   "metadata": {},
   "source": [
    "---"
   ]
  },
  {
   "cell_type": "markdown",
   "metadata": {},
   "source": [
    "## numpy array serialization"
   ]
  },
  {
   "cell_type": "markdown",
   "metadata": {},
   "source": [
    "### 1. pickle\n",
    "* Compatibility between Python versions\n",
    "* Insecure"
   ]
  },
  {
   "cell_type": "markdown",
   "metadata": {},
   "source": [
    "### 2. np.save and np.load"
   ]
  },
  {
   "cell_type": "code",
   "execution_count": null,
   "metadata": {},
   "outputs": [],
   "source": [
    "np.save('/tmp/example.npy', a)\n",
    "a = np.load('/tmp/example.npy')"
   ]
  },
  {
   "cell_type": "markdown",
   "metadata": {},
   "source": [
    "### 3. to python builtin data object"
   ]
  },
  {
   "cell_type": "code",
   "execution_count": null,
   "metadata": {},
   "outputs": [],
   "source": [
    "a = np.arange(3)\n",
    "a.tolist()"
   ]
  },
  {
   "cell_type": "markdown",
   "metadata": {},
   "source": [
    "### 4. readable data on disk"
   ]
  },
  {
   "cell_type": "code",
   "execution_count": null,
   "metadata": {},
   "outputs": [],
   "source": [
    "a.tofile('/tmp/example.txt')\n",
    "np.fromfile('/tmp/example.txt')"
   ]
  },
  {
   "cell_type": "markdown",
   "metadata": {},
   "source": [
    "### 5. 3rd party library: h5py, pytables, ..."
   ]
  },
  {
   "cell_type": "code",
   "execution_count": null,
   "metadata": {},
   "outputs": [],
   "source": [
    "import h5py\n",
    "with h5py.File('example.h5') as h5f:\n",
    "    h5f['data/group/to/store'] = np.arange(3)"
   ]
  },
  {
   "cell_type": "markdown",
   "metadata": {},
   "source": [
    "### 6. json\n",
    "* good readability\n",
    "* cross-platform compatibility"
   ]
  },
  {
   "cell_type": "code",
   "execution_count": null,
   "metadata": {},
   "outputs": [],
   "source": [
    "import json\n",
    "a = np.arange(3)\n",
    "json.dumps(a)\n",
    "\n",
    "# solution 1\n",
    "json.dumps(a.tolist())\n",
    "# solutiohn 2\n",
    "import pandas as pd\n",
    "pd.DataFrame(a).to_json()"
   ]
  }
 ],
 "metadata": {
  "kernelspec": {
   "display_name": "Python 3",
   "language": "python",
   "name": "python3"
  },
  "language_info": {
   "codemirror_mode": {
    "name": "ipython",
    "version": 3
   },
   "file_extension": ".py",
   "mimetype": "text/x-python",
   "name": "python",
   "nbconvert_exporter": "python",
   "pygments_lexer": "ipython3",
   "version": "3.7.6"
  }
 },
 "nbformat": 4,
 "nbformat_minor": 4
}
