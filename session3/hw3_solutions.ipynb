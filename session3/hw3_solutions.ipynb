{
 "cells": [
  {
   "cell_type": "markdown",
   "metadata": {},
   "source": [
    "1. Read the code below and rewrite it using only numpy functions (without for loop,\n",
    "if-else statements). Benchmark your implementation. How much is it faster than\n",
    "the naive python implementation?\n",
    "\n",
    "```\n",
    "def func1(names, db):\n",
    "    idx = []\n",
    "    for i in names:\n",
    "        if i in db:\n",
    "            idx.append(db.index(i))\n",
    "    return idx\n",
    "```"
   ]
  },
  {
   "cell_type": "code",
   "execution_count": 1,
   "metadata": {},
   "outputs": [],
   "source": [
    "import numpy as np\n",
    "def problem1_benchmark(a, b):\n",
    "    idx = []\n",
    "    b = b.tolist()\n",
    "    for i in a:\n",
    "        if i in b:\n",
    "            idx.append(b.index(i))\n",
    "    return np.array(idx)  # Be careful with the order of idx\n",
    "\n",
    "# This version works for small amount of data\n",
    "def problem1_solution1(a, b):\n",
    "    return(np.where(a[:,None] == b)[1])\n",
    "\n",
    "# solution 2\n",
    "def problem1_solution2(a, b):\n",
    "    a_in_b_mask = np.isin(a, b)\n",
    "    b_in_a_mask = np.isin(b, a)\n",
    "    common_set_in_a = a[a_in_b_mask]\n",
    "    common_set_in_b = b[b_in_a_mask]\n",
    "    b_in_a_idx = np.where(b_in_a_mask)[0]\n",
    "    a_in_b_idx = np.where(a_in_b_mask)[0]\n",
    "    b_in_a_sorted_idx = b_in_a_idx[common_set_in_b.argsort()]\n",
    "    a_in_b_sorted_idx = a_in_b_idx[common_set_in_a.argsort()]\n",
    "    # b[b_in_a_sorted_idx] and a[a_in_b_sorted_idx] should give the same sorted common set\n",
    "    return b_in_a_sorted_idx[a_in_b_sorted_idx.argsort()]"
   ]
  },
  {
   "cell_type": "code",
   "execution_count": 2,
   "metadata": {},
   "outputs": [
    {
     "name": "stdout",
     "output_type": "stream",
     "text": [
      "[ 1 12 14  6  4]\n",
      "[ 1 12 14  6  4]\n",
      "[ 1 12 14  6  4]\n"
     ]
    }
   ],
   "source": [
    "np.random.seed(1)\n",
    "a = np.append(np.arange(5), np.arange(100, 110))\n",
    "b = np.append(np.arange(5), np.arange(200, 210))\n",
    "np.random.shuffle(a)\n",
    "np.random.shuffle(b)\n",
    "print(problem1_benchmark(a, b))\n",
    "print(problem1_solution1(a, b))\n",
    "print(problem1_solution2(a, b))"
   ]
  },
  {
   "cell_type": "markdown",
   "metadata": {},
   "source": [
    "2. Use only numpy functions (without for loop, if-else statements) to find the\n",
    "largest 3 distances between points if either points is inside the circle of\n",
    "raidus r0. Then return these points. E.g.\n",
    "\n",
    "```\n",
    ">>> coordinates = np.array(\n",
    "[[0.968, 0.313],\n",
    " [0.692, 0.876],\n",
    " [0.895, 0.085],\n",
    " [0.039, 0.17 ],\n",
    " [0.878, 0.098]]\n",
    ")\n",
    ">>> cirle_r0 = 0.9\n",
    ">>> print(search_pairs(coordinates, cirle_r0))\n",
    "\n",
    "# The indices of the relevant points in the original coordinates\n",
    "[[2 1]\n",
    " [3 0]\n",
    " [3 1]]\n",
    "```"
   ]
  },
  {
   "cell_type": "code",
   "execution_count": 3,
   "metadata": {},
   "outputs": [],
   "source": [
    "def problem2_np_max_distances_solution1(coordinates, r0, n=3):\n",
    "    pair_dists = np.linalg.norm(coordinates[:, np.newaxis, :] - coordinates, axis=2)\n",
    "    points_in_r0 = np.linalg.norm(coordinates, axis=1) < r0\n",
    "    mask_r0 = points_in_r0[:, np.newaxis] ^ points_in_r0\n",
    "    mask = np.tril(mask_r0, k=-1)\n",
    "    uniq_indices = np.where(mask)\n",
    "    uniq_dists = pair_dists[uniq_indices]\n",
    "    indices_array = np.array(uniq_indices).T\n",
    "    return indices_array[np.argpartition(uniq_dists, -n)[-n:]]\n",
    "\n",
    "def problem2_np_max_distances_solution2(coordinates, r0, n=3):\n",
    "    pair_dists = np.linalg.norm(coordinates[:, np.newaxis, :] - coordinates, axis=2)\n",
    "    points_in_r0 = np.linalg.norm(coordinates, axis=1) < r0\n",
    "    mask_r0 = points_in_r0[:, np.newaxis] ^ points_in_r0\n",
    "    mask = np.tril(mask_r0, k=-1)\n",
    "    pair_dists[~mask] = 0  # Exclude points unwanted\n",
    "    largest_indices = np.argpartition(pair_dists.ravel(), -n)[-n:]\n",
    "    indices = np.unravel_index(largest_indices, pair_dists.shape)\n",
    "    return np.array(indices).T\n",
    "\n",
    "# This version works, but slower than the above two when n is large\n",
    "def problem2_np_max_distances_solution3(coordinates, r0, n=3):\n",
    "    pair_dists = np.linalg.norm(coordinates[:, np.newaxis, :] - coordinates, axis=2)\n",
    "    pair_dists = np.tril(pair_dists, k=-1) # the lower-triangular part\n",
    "    points_in_r0 = np.linalg.norm(coordinates, axis=1) < r0\n",
    "    mask_r0 = points_in_r0[:, np.newaxis] ^ points_in_r0\n",
    "\n",
    "    uniq_dists = pair_dists[mask_r0]\n",
    "    largest_dists = np.partition(uniq_dists, -n)[-n:]\n",
    "\n",
    "    pair_mask = np.isin(pair_dists, largest_dists)\n",
    "    indices = np.array(np.where(pair_mask)).T\n",
    "    return indices[:n]  # Truncate to the largest N points"
   ]
  },
  {
   "cell_type": "code",
   "execution_count": 4,
   "metadata": {},
   "outputs": [
    {
     "name": "stdout",
     "output_type": "stream",
     "text": [
      "[[0.968 0.313]\n",
      " [0.692 0.876]\n",
      " [0.895 0.085]\n",
      " [0.039 0.17 ]\n",
      " [0.878 0.098]]\n",
      "[[2 1]\n",
      " [3 0]\n",
      " [3 1]]\n",
      "[[2 1]\n",
      " [3 0]\n",
      " [3 1]]\n",
      "[[2 1]\n",
      " [3 0]\n",
      " [3 1]]\n"
     ]
    }
   ],
   "source": [
    "coords = np.random.random((5, 2))\n",
    "print(coords.round(3))\n",
    "print(problem2_np_max_distances_solution1(coords, 0.9))\n",
    "print(problem2_np_max_distances_solution2(coords, 0.9))\n",
    "print(problem2_np_max_distances_solution3(coords, 0.9))"
   ]
  },
  {
   "cell_type": "code",
   "execution_count": null,
   "metadata": {},
   "outputs": [],
   "source": []
  }
 ],
 "metadata": {
  "kernelspec": {
   "display_name": "Python 3",
   "language": "python",
   "name": "python3"
  },
  "language_info": {
   "codemirror_mode": {
    "name": "ipython",
    "version": 3
   },
   "file_extension": ".py",
   "mimetype": "text/x-python",
   "name": "python",
   "nbconvert_exporter": "python",
   "pygments_lexer": "ipython3",
   "version": "3.7.6"
  }
 },
 "nbformat": 4,
 "nbformat_minor": 4
}
