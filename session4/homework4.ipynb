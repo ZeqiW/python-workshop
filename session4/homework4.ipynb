{
 "cells": [
  {
   "cell_type": "code",
   "execution_count": 1,
   "metadata": {},
   "outputs": [
    {
     "data": {
      "text/html": [
       "<style>.container { width:100% !important; }</style>"
      ],
      "text/plain": [
       "<IPython.core.display.HTML object>"
      ]
     },
     "metadata": {},
     "output_type": "display_data"
    }
   ],
   "source": [
    "from IPython.core.display import display, HTML\n",
    "display(HTML(\"<style>.container { width:100% !important; }</style>\"))\n",
    "import pandas as pd\n",
    "import numpy as np"
   ]
  },
  {
   "cell_type": "markdown",
   "metadata": {},
   "source": [
    "# Question 1 Explortoary Data Analysis"
   ]
  },
  {
   "cell_type": "markdown",
   "metadata": {},
   "source": [
    "* From example/input/ load compustat.csv inside compustat.zip  without unzip compustat.zip\n",
    "* 1. Variable names that we are interested in:\n",
    "    * sic code: four digits integer for company\n",
    "    * datecqtr: year/ quarter time for the record\n",
    "    * cusip: compustats identifier for a company\n",
    "    * chod: shares out of standing (in million)\n",
    "    * saleq: sales of current quarter (in million)\n",
    "    * prccq: close price of current quarter (in dollar)\n",
    "    \n",
    "* 2. For saleq and market cap, compute the following:\n",
    "    * Time series mean \n",
    "    * Time Series Standard deviation\n",
    "    * Time Series count of missing value\n",
    "    * Time Series reatio of missing value\n",
    "    * Aggregate the result in a datafrmae\n",
    "        \n",
    "* 3. Answer the following questions:\n",
    "    * Before computing any value, what kinds of descriptive analyis would you do to check if there are outliers?\n",
    "    * Implmenet some scheme to detect outliers.\n",
    "    * Do you find some outliers? Could you think why? You can do some reserach using google.\n",
    "    * What kinds of conclusion you can get from analyzing the table you get in 2? You can make some plots to illustrate."
   ]
  },
  {
   "cell_type": "markdown",
   "metadata": {},
   "source": [
    "# Question 2 Compute Industry Concentration"
   ]
  },
  {
   "cell_type": "markdown",
   "metadata": {},
   "source": [
    "The defination of HHI index could be found: \n",
    "\n",
    "https://www.investopedia.com/terms/h/hhi.asp#:~:text=The%20Herfindahl%2DHirschman%20Index%20(HHI)%20is%20a%20commonly%20accepted,close%20to%20zero%20to%2010%2C000.\n",
    "\n",
    "This index is used to measure the industry concnetration and was used by congressman to determine whether to approve a merge deal or not.\n",
    "\n",
    "Using the same data in question 1. Compute a panel data for HHI index for all industry, using a 2 digit SIC code.\n",
    "\n",
    "Choose top 4 industry with the highest average HHI index, plot their time series pattern of HHI in a 2 by 2 figure."
   ]
  }
 ],
 "metadata": {
  "kernelspec": {
   "display_name": "Python 3",
   "language": "python",
   "name": "python3"
  },
  "language_info": {
   "codemirror_mode": {
    "name": "ipython",
    "version": 3
   },
   "file_extension": ".py",
   "mimetype": "text/x-python",
   "name": "python",
   "nbconvert_exporter": "python",
   "pygments_lexer": "ipython3",
   "version": "3.7.6"
  },
  "toc": {
   "base_numbering": 1,
   "nav_menu": {},
   "number_sections": true,
   "sideBar": true,
   "skip_h1_title": false,
   "title_cell": "Table of Contents",
   "title_sidebar": "Contents",
   "toc_cell": false,
   "toc_position": {},
   "toc_section_display": true,
   "toc_window_display": false
  }
 },
 "nbformat": 4,
 "nbformat_minor": 4
}
