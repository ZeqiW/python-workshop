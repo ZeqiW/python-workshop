{
 "cells": [
  {
   "cell_type": "markdown",
   "metadata": {
    "ExecuteTime": {
     "end_time": "2020-08-01T19:21:18.819825Z",
     "start_time": "2020-08-01T19:21:18.808412Z"
    }
   },
   "source": [
    "## Merge sorted streams\n",
    "Write a generator function that takes two sorted streams (generators), and return a generator that can produce a merged stream in sorted order.\n",
    "\n",
    "Bonus point: can you make it generic such that it can merge any number of streams?\n",
    "\n",
    "\n",
    "```python\n",
    "def merge_sorted_streams(stream1, stream2):\n",
    "    yield ...\n",
    "\n",
    "stream1 = range(0, 10, 2)\n",
    "stream2 = range(1, 10, 2)\n",
    "\n",
    "for x in merge_sorted_stream(stream1, stream2):\n",
    "    print(x)\n",
    "\n",
    "0 \n",
    "1\n",
    "2\n",
    "3\n",
    "4\n",
    "5\n",
    "6\n",
    "7\n",
    "8\n",
    "9\n",
    "```"
   ]
  },
  {
   "cell_type": "code",
   "execution_count": 53,
   "metadata": {
    "ExecuteTime": {
     "end_time": "2020-08-01T20:06:24.257773Z",
     "start_time": "2020-08-01T20:06:24.250567Z"
    }
   },
   "outputs": [],
   "source": [
    "import heapq\n",
    "\n",
    "def merge_sorted_streams(*streams):\n",
    "    if not streams:\n",
    "        raise StopIteration\n",
    "\n",
    "    if len(streams) == 1:\n",
    "        for val in streams[0]:\n",
    "            yield val\n",
    "        return\n",
    "\n",
    "    # make sure the streams are iterators\n",
    "    streams = [iter(stream) for stream in streams]\n",
    "    # flag indicating whether the stream has exhausted\n",
    "    active = [True] * len(streams)\n",
    "    # a buffer containing fetched values in sorted order\n",
    "    queue = []\n",
    "\n",
    "    for i, stream in enumerate(streams):\n",
    "        try:\n",
    "            heapq.heappush(queue, (next(stream), i))\n",
    "        except StopIteration:\n",
    "            active[i] = False\n",
    "\n",
    "    while queue:\n",
    "        val, i = heapq.heappop(queue)\n",
    "        yield val\n",
    "        if active[i]:\n",
    "            try:\n",
    "                heapq.heappush(queue, (next(streams[i]), i))\n",
    "            except StopIteration:\n",
    "                active[i] = False\n",
    "        \n",
    "    for val, _ in queue:\n",
    "        yield val\n"
   ]
  },
  {
   "cell_type": "code",
   "execution_count": 54,
   "metadata": {
    "ExecuteTime": {
     "end_time": "2020-08-01T20:06:24.733759Z",
     "start_time": "2020-08-01T20:06:24.729274Z"
    }
   },
   "outputs": [
    {
     "name": "stdout",
     "output_type": "stream",
     "text": [
      "0\n",
      "3\n",
      "6\n",
      "9\n"
     ]
    }
   ],
   "source": [
    "stream1 = range(0, 10, 3)\n",
    "stream2 = range(1, 10, 3)\n",
    "stream3 = range(2, 10, 3)\n",
    "\n",
    "for x in merge_sorted_streams(stream1):\n",
    "    print(x)"
   ]
  },
  {
   "cell_type": "code",
   "execution_count": 55,
   "metadata": {
    "ExecuteTime": {
     "end_time": "2020-08-01T20:06:25.202881Z",
     "start_time": "2020-08-01T20:06:25.199370Z"
    }
   },
   "outputs": [],
   "source": [
    "for x in merge_sorted_streams([], []):\n",
    "    print(x)"
   ]
  },
  {
   "cell_type": "code",
   "execution_count": 56,
   "metadata": {
    "ExecuteTime": {
     "end_time": "2020-08-01T20:06:25.374980Z",
     "start_time": "2020-08-01T20:06:25.371445Z"
    }
   },
   "outputs": [
    {
     "name": "stdout",
     "output_type": "stream",
     "text": [
      "0\n",
      "1\n",
      "2\n",
      "3\n",
      "4\n",
      "5\n",
      "6\n",
      "7\n",
      "8\n",
      "9\n"
     ]
    }
   ],
   "source": [
    "for x in merge_sorted_streams(stream1, stream2, stream3, [], []):\n",
    "    print(x)"
   ]
  },
  {
   "cell_type": "markdown",
   "metadata": {},
   "source": [
    "## Tree traversal\n",
    "\n",
    "Unlike linear data structures (Array, Linked List, Queues, Stacks, etc) which have only one logical way to traverse them, trees can be traversed in different ways. Following are the generally used ways for traversing trees.\n",
    "\n",
    "```\n",
    "      1\n",
    "    /  \\ \n",
    "   2    3\n",
    "  / \\\n",
    " 4   5\n",
    "```\n",
    "\n",
    "Depth First Traversals: \n",
    "  * (a) Inorder (Left, Root, Right) : 4 2 5 1 3\n",
    "  * (b) Preorder (Root, Left, Right) : 1 2 4 5 3\n",
    "  * (c) Postorder (Left, Right, Root) : 4 5 2 3 1\n",
    "\n",
    "Define a Tree class with a method that can walk through the tree in different orders. Hint: use generator will make your life a lot easier.\n",
    "\n",
    "```python\n",
    "class TreeNode:\n",
    "    \n",
    "    ...\n",
    "\n",
    "    def in_order(self):\n",
    "        pass\n",
    "        \n",
    "    def pre_order(self):\n",
    "        pass\n",
    "        \n",
    "    def post_order(self):\n",
    "        pass\n",
    "\n",
    "    \n",
    "root = TreeNode(1)\n",
    "root.left = TreeNode(2)\n",
    "root.right = TreeNode(3)\n",
    "root.left.left = TreeNode(4)\n",
    "root.left.right = TreeNode(5)\n",
    "\n",
    ">>> print(' -> '.join(item for item in root.in_order()))\n",
    "4 -> 2 -> 5 -> 1 -> 3    \n",
    "\n",
    "\n",
    "```\n",
    "   "
   ]
  },
  {
   "cell_type": "code",
   "execution_count": 58,
   "metadata": {
    "ExecuteTime": {
     "end_time": "2020-08-01T22:11:03.263204Z",
     "start_time": "2020-08-01T22:11:03.255481Z"
    }
   },
   "outputs": [],
   "source": [
    "class TreeNode:\n",
    "\n",
    "    def __init__(self, val) -> None:\n",
    "        self.val = val\n",
    "        self.left = None\n",
    "        self.right = None\n",
    "\n",
    "    def __repr__(self) -> str:\n",
    "        return f\"{self.__class__.__name__}({self.val})\"\n",
    "    \n",
    "    def __str__(self) -> str:\n",
    "        return str(self.val)\n",
    "        \n",
    "    def in_order(self):\n",
    "        if self.left:\n",
    "            for val in self.left.in_order():  # or use yield from\n",
    "                yield val\n",
    "        yield self.val\n",
    "        if self.right:\n",
    "            for val in self.right.in_order():\n",
    "                yield val\n",
    "        \n",
    "    def pre_order(self):\n",
    "        yield self.val\n",
    "        if self.left:\n",
    "            for val in self.left.pre_order():\n",
    "                yield val\n",
    "        if self.right:\n",
    "            for val in self.right.pre_order():\n",
    "                yield val\n",
    "\n",
    "    def post_order(self):\n",
    "        if self.left:\n",
    "            for val in self.left.post_order():\n",
    "                yield val\n",
    "        if self.right:\n",
    "            for val in self.right.post_order():\n",
    "                yield val\n",
    "        yield self.val\n"
   ]
  },
  {
   "cell_type": "code",
   "execution_count": 59,
   "metadata": {
    "ExecuteTime": {
     "end_time": "2020-08-01T22:11:03.429798Z",
     "start_time": "2020-08-01T22:11:03.424152Z"
    }
   },
   "outputs": [
    {
     "data": {
      "text/plain": [
       "TreeNode(1)"
      ]
     },
     "execution_count": 59,
     "metadata": {},
     "output_type": "execute_result"
    }
   ],
   "source": [
    "root = TreeNode(1)\n",
    "root.left = TreeNode(2)\n",
    "root.right = TreeNode(3)\n",
    "root.left.left = TreeNode(4)\n",
    "root.left.right = TreeNode(5)\n",
    "\n",
    "root"
   ]
  },
  {
   "cell_type": "code",
   "execution_count": 60,
   "metadata": {
    "ExecuteTime": {
     "end_time": "2020-08-01T22:11:03.595495Z",
     "start_time": "2020-08-01T22:11:03.592106Z"
    }
   },
   "outputs": [
    {
     "name": "stdout",
     "output_type": "stream",
     "text": [
      "4 -> 2 -> 5 -> 1 -> 3\n"
     ]
    }
   ],
   "source": [
    "print(' -> '.join(str(item) for item in root.in_order()))"
   ]
  },
  {
   "cell_type": "code",
   "execution_count": 61,
   "metadata": {
    "ExecuteTime": {
     "end_time": "2020-08-01T22:11:04.238250Z",
     "start_time": "2020-08-01T22:11:04.234783Z"
    }
   },
   "outputs": [
    {
     "name": "stdout",
     "output_type": "stream",
     "text": [
      "1 -> 2 -> 4 -> 5 -> 3\n"
     ]
    }
   ],
   "source": [
    "print(' -> '.join(str(item) for item in root.pre_order()))"
   ]
  },
  {
   "cell_type": "code",
   "execution_count": 62,
   "metadata": {
    "ExecuteTime": {
     "end_time": "2020-08-01T22:11:04.588124Z",
     "start_time": "2020-08-01T22:11:04.584658Z"
    }
   },
   "outputs": [
    {
     "name": "stdout",
     "output_type": "stream",
     "text": [
      "4 -> 5 -> 2 -> 3 -> 1\n"
     ]
    }
   ],
   "source": [
    "print(' -> '.join(str(item) for item in root.post_order()))"
   ]
  },
  {
   "cell_type": "markdown",
   "metadata": {},
   "source": [
    "## Implement a timer\n",
    "Implement a timer that can print the execution time of your code. Try to implement it both as a decorator and as a context manager to compare the implementations. Can you implement it using one single class? \n",
    "\n",
    "Example:\n",
    "```python\n",
    "import time\n",
    "\n",
    "\n",
    "with timer():\n",
    "    time.sleep(3)\n",
    "\n",
    "# Total execution time: 3.000123 seconds (a made up number)\n",
    "\n",
    "\n",
    "@timer\n",
    "def sleep(secs):\n",
    "    time.sleep(secs)\n",
    "    \n",
    "sleep(3)\n",
    "# Total execution time: 3.000123 seconds (a made up number)\n",
    "```\n",
    "\n",
    "Below is the code snippet to measure the time:\n",
    "```python    \n",
    "import time\n",
    "start_time = time.time()\n",
    "main()\n",
    "print(f\"--- {time.time() - start_time} seconds ---\"\n",
    "```"
   ]
  },
  {
   "cell_type": "code",
   "execution_count": 63,
   "metadata": {
    "ExecuteTime": {
     "end_time": "2020-08-01T22:11:05.521514Z",
     "start_time": "2020-08-01T22:11:05.516386Z"
    }
   },
   "outputs": [],
   "source": [
    "import contextlib\n",
    "import time\n",
    "\n",
    "\n",
    "class Timer(contextlib.ContextDecorator):\n",
    "\n",
    "    def __init__(self):\n",
    "        self.start_time = None\n",
    "        \n",
    "    def __enter__(self):\n",
    "        if self.start_time:\n",
    "            raise RuntimeError(\"Already in Timed context, cannot enter again!\")\n",
    "        self.start_time = time.time()\n",
    "        return self\n",
    "\n",
    "    def __exit__(self, *exc):\n",
    "        print(f\"--- Execution time: {time.time() - self.start_time} seconds ---\")\n",
    "        self.start_time = None\n",
    "    \n",
    "\n",
    "def timed(func=None):\n",
    "    \n",
    "    if func is None:\n",
    "        print(\"Using timed as a context manager\")\n",
    "        return Timer()\n",
    "    \n",
    "    print(\"Uing timed as a function decorator\")\n",
    "    return Timer()(func)"
   ]
  },
  {
   "cell_type": "code",
   "execution_count": 64,
   "metadata": {
    "ExecuteTime": {
     "end_time": "2020-08-01T22:11:07.291059Z",
     "start_time": "2020-08-01T22:11:06.281989Z"
    }
   },
   "outputs": [
    {
     "name": "stdout",
     "output_type": "stream",
     "text": [
      "Using timed as a context manager\n",
      "--- Execution time: 1.0049338340759277 seconds ---\n"
     ]
    }
   ],
   "source": [
    "with timed():\n",
    "    time.sleep(1)"
   ]
  },
  {
   "cell_type": "code",
   "execution_count": 65,
   "metadata": {
    "ExecuteTime": {
     "end_time": "2020-08-01T22:11:08.302124Z",
     "start_time": "2020-08-01T22:11:07.293913Z"
    }
   },
   "outputs": [
    {
     "name": "stdout",
     "output_type": "stream",
     "text": [
      "Uing timed as a function decorator\n",
      "--- Execution time: 1.0029470920562744 seconds ---\n"
     ]
    }
   ],
   "source": [
    "@timed\n",
    "def sleep(secs):\n",
    "    time.sleep(secs)\n",
    "\n",
    "sleep(1)"
   ]
  },
  {
   "cell_type": "code",
   "execution_count": null,
   "metadata": {},
   "outputs": [],
   "source": []
  }
 ],
 "metadata": {
  "kernelspec": {
   "display_name": "Python 3",
   "language": "python",
   "name": "python3"
  },
  "language_info": {
   "codemirror_mode": {
    "name": "ipython",
    "version": 3
   },
   "file_extension": ".py",
   "mimetype": "text/x-python",
   "name": "python",
   "nbconvert_exporter": "python",
   "pygments_lexer": "ipython3",
   "version": "3.7.6"
  },
  "toc": {
   "base_numbering": 1,
   "nav_menu": {},
   "number_sections": true,
   "sideBar": true,
   "skip_h1_title": false,
   "title_cell": "Table of Contents",
   "title_sidebar": "Contents",
   "toc_cell": false,
   "toc_position": {},
   "toc_section_display": true,
   "toc_window_display": false
  }
 },
 "nbformat": 4,
 "nbformat_minor": 4
}
